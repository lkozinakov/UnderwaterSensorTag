{
 "cells": [
  {
   "cell_type": "code",
   "execution_count": null,
   "metadata": {},
   "outputs": [],
   "source": [
    "def kalman_filter_step(belief, control, measurement):\n",
    "\n",
    "    #Prediction\n",
    "    a = 1\n",
    "    mu_t_bar = a*belief.mu + control.mu\n",
    "    sigma_t_bar = (a**2)*belief.sigma2 + control.sigma2\n",
    "    prediction = Density(mu_t_bar,sigma_t_bar)\n",
    "\n",
    "    # Correction.\n",
    "    c = 1\n",
    "    K = (c*sigma_t_bar)/((c**2)*sigma_t_bar + measurement.sigma2)\n",
    "    mu = mu_t_bar + K*(measurement.mu - c*mu_t_bar)\n",
    "    sigma = (1-K*c)*sigma_t_bar\n",
    "    correction = Density(mu,sigma)\n",
    "\n",
    "\n",
    "    return (prediction, correction)\n"
   ]
  }
 ],
 "metadata": {
  "kernelspec": {
   "display_name": "Python 3",
   "language": "python",
   "name": "python3"
  },
  "language_info": {
   "codemirror_mode": {
    "name": "ipython",
    "version": 3
   },
   "file_extension": ".py",
   "mimetype": "text/x-python",
   "name": "python",
   "nbconvert_exporter": "python",
   "pygments_lexer": "ipython3",
   "version": "3.6.4"
  }
 },
 "nbformat": 4,
 "nbformat_minor": 2
}
