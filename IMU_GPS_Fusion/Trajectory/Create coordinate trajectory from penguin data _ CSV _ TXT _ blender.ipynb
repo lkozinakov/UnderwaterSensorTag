{
 "cells": [
  {
   "cell_type": "markdown",
   "metadata": {},
   "source": [
    "## Draw GPS Trace of Penguin Data"
   ]
  },
  {
   "cell_type": "code",
   "execution_count": null,
   "metadata": {},
   "outputs": [],
   "source": [
    "import numpy as np\n",
    "import pandas as pd\n",
    "import matplotlib.pyplot as plt\n",
    "import matplotlib.pyplot as plt\n",
    "from mpl_toolkits.mplot3d import Axes3D\n",
    "import math"
   ]
  },
  {
   "cell_type": "code",
   "execution_count": null,
   "metadata": {},
   "outputs": [],
   "source": [
    "data = pd.read_csv(\"penguin_combined_trace.csv\")\n",
    "print(len(data))"
   ]
  },
  {
   "cell_type": "code",
   "execution_count": null,
   "metadata": {},
   "outputs": [],
   "source": [
    "data_1 = data.iloc[1:] \n",
    "print(len(data_1))\n",
    "list(data.columns.values)"
   ]
  },
  {
   "cell_type": "code",
   "execution_count": null,
   "metadata": {},
   "outputs": [],
   "source": [
    "df_GPS = data_1[['Latitude','Longitude','Altitude']]\n",
    "print(len(df_GPS))"
   ]
  },
  {
   "cell_type": "code",
   "execution_count": null,
   "metadata": {},
   "outputs": [],
   "source": [
    "del data, data_1"
   ]
  },
  {
   "cell_type": "markdown",
   "metadata": {},
   "source": [
    "#### Convert GPS to meters"
   ]
  },
  {
   "cell_type": "code",
   "execution_count": null,
   "metadata": {},
   "outputs": [],
   "source": [
    "x_nan = np.array(df_GPS['Latitude'])\n",
    "y_nan = np.array(df_GPS['Longitude'])\n",
    "z_nan = np.array(df_GPS['Altitude'])"
   ]
  },
  {
   "cell_type": "code",
   "execution_count": null,
   "metadata": {},
   "outputs": [],
   "source": [
    "x = []\n",
    "y = []\n",
    "z = []\n",
    "GPS_fix = []\n",
    "\n",
    "for i in range(len(x_nan)):\n",
    "    if math.isnan(x_nan[i]) == False:\n",
    "        x_fix = x_nan[i]\n",
    "        y_fix = y_nan[i]\n",
    "        z_fix = z_nan[i]\n",
    "        GPS_fix.append(True)\n",
    "    else:\n",
    "        GPS_fix.append(False)\n",
    "    x.append(x_fix)\n",
    "    y.append(y_fix)\n",
    "    z.append(z_fix)\n",
    "print(x[0:10])"
   ]
  },
  {
   "cell_type": "code",
   "execution_count": null,
   "metadata": {},
   "outputs": [],
   "source": [
    "del x_nan, y_nan, z_nan"
   ]
  },
  {
   "cell_type": "code",
   "execution_count": null,
   "metadata": {},
   "outputs": [],
   "source": [
    "x = np.array(x)\n",
    "y = np.array(y)\n",
    "z = np.array(z)\n",
    "\n",
    "R = 6378388.0 + z # m\n",
    "arc= 2.0*np.pi*R/360.0 # m/°\n",
    "dx = arc * np.cos(x*np.pi/180.0) * np.hstack((0.0, np.diff(y))) # in m\n",
    "dy = arc * np.hstack((0.0, np.diff(x))) # in m\n",
    "dz = np.hstack((0.0, np.diff(z)))\n",
    "\n",
    "mx = np.cumsum(dx)\n",
    "my = np.cumsum(dy)\n",
    "mz = np.cumsum(dz)\n",
    "\n",
    "print(GPS_fix[0:10])\n",
    "# ds = np.sqrt(dx**2+dy**2+dz**2)\n",
    "# GPS=np.hstack((True, (np.diff(ds)>0.0).astype('bool'))) # GPS Trigger for Kalman Filter"
   ]
  },
  {
   "cell_type": "markdown",
   "metadata": {},
   "source": [
    "#### JUST TO VISUALIZE, DROPPED ALL NAN"
   ]
  },
  {
   "cell_type": "code",
   "execution_count": null,
   "metadata": {},
   "outputs": [],
   "source": [
    "\n",
    "fx = df_GPS['Latitude'].dropna()\n",
    "fy = df_GPS['Longitude'].dropna()\n",
    "fz = df_GPS['Altitude'].dropna()\n",
    "\n",
    "fx = np.array(fx)\n",
    "fy = np.array(fy)\n",
    "fz = np.array(fz)\n",
    "\n",
    "R = 6378388.0 + fz # m\n",
    "arc= 2.0*np.pi*R/360.0 # m/°\n",
    "fdx = arc * np.cos(fx*np.pi/180.0) * np.hstack((0.0, np.diff(fy))) # in m\n",
    "fdy = arc * np.hstack((0.0, np.diff(fx))) # in m\n",
    "fdz = np.hstack((0.0, np.diff(fz)))\n",
    "\n",
    "fmx = np.cumsum(fdx)\n",
    "fmy = np.cumsum(fdy)\n",
    "fmz = np.cumsum(fdz)\n",
    "\n",
    "\n",
    "fig = plt.figure(figsize=(20,10))\n",
    "plot_3d = fig.gca(projection='3d')\n",
    "s = 390\n",
    "e = 400\n",
    "plot_3d.plot(fmx[s:e], fmy[s:e], fmz[s:e])"
   ]
  },
  {
   "cell_type": "code",
   "execution_count": null,
   "metadata": {},
   "outputs": [],
   "source": [
    "GPS_index = np.where(GPS_fix)[0][s:e]\n",
    "print(GPS_index)\n",
    "\n",
    "print(GPS_index[0])\n",
    "print(GPS_index[-1])"
   ]
  },
  {
   "cell_type": "markdown",
   "metadata": {},
   "source": [
    "## Blender data"
   ]
  },
  {
   "cell_type": "code",
   "execution_count": null,
   "metadata": {},
   "outputs": [],
   "source": [
    "data = pd.read_csv(\"penguin_combined_trace.csv\")\n",
    "print(len(data))"
   ]
  },
  {
   "cell_type": "code",
   "execution_count": null,
   "metadata": {},
   "outputs": [],
   "source": [
    "data_1 = data.iloc[GPS_index[0]:GPS_index[-1]] \n",
    "print(len(data_1))\n",
    "list(data.columns.values)\n",
    "df_GPS = data_1[['Latitude','Longitude','Altitude']]\n",
    "print(len(df_GPS))"
   ]
  },
  {
   "cell_type": "code",
   "execution_count": null,
   "metadata": {},
   "outputs": [],
   "source": [
    "fx = df_GPS['Latitude'].dropna()\n",
    "fy = df_GPS['Longitude'].dropna()\n",
    "fz = df_GPS['Altitude'].dropna()\n",
    "\n",
    "fx = np.array(fx)\n",
    "fy = np.array(fy)\n",
    "fz = np.array(fz)\n",
    "\n",
    "R = 6378388.0 + fz # m\n",
    "arc= 2.0*np.pi*R/360.0 # m/°\n",
    "fdx = arc * np.cos(fx*np.pi/180.0) * np.hstack((0.0, np.diff(fy))) # in m\n",
    "fdy = arc * np.hstack((0.0, np.diff(fx))) # in m\n",
    "fdz = np.hstack((0.0, np.diff(fz)))\n",
    "\n",
    "fmx = np.cumsum(fdx)\n",
    "fmy = np.cumsum(fdy)\n",
    "fmz = np.cumsum(fdz)\n",
    "\n",
    "\n",
    "fig = plt.figure(figsize=(20,10))\n",
    "plot_3d = fig.gca(projection='3d')\n",
    "plot_3d.plot(fmx, fmy, fmz)"
   ]
  },
  {
   "cell_type": "code",
   "execution_count": null,
   "metadata": {},
   "outputs": [],
   "source": [
    "print(len(fmx))\n",
    "GPS_index = np.where(GPS_fix)[0][s:e]\n",
    "\n",
    "x = fmx\n",
    "y = fmy\n",
    "z = fmz\n",
    "\n",
    "coor = []\n",
    "\n",
    "for i in range(len(x)):\n",
    "    coor.append((x[i],y[i],z[i]))\n",
    "\n",
    "print(len(coor))\n",
    "# write to a file \n",
    "filename = open(\"coordinate_from_penguin.txt\",\"w\")\n",
    "for i in range(len(coor)):\n",
    "    print(x[i], y[i], z[i] ,file = filename)\n",
    "    print(x[i], y[i], z[i] ,file = filename)\n",
    "    print(x[i], y[i], z[i] ,file = filename)\n",
    "    print(x[i], y[i], z[i] ,file = filename)\n",
    "    print(x[i], y[i], z[i] ,file = filename)\n",
    "filename.close()\n"
   ]
  },
  {
   "cell_type": "code",
   "execution_count": null,
   "metadata": {},
   "outputs": [],
   "source": [
    "###############################Checking the"
   ]
  },
  {
   "cell_type": "code",
   "execution_count": null,
   "metadata": {},
   "outputs": [],
   "source": [
    "filename = open(\"path_output_from_blender.txt\")\n",
    "prev_val = 0.5"
   ]
  },
  {
   "cell_type": "code",
   "execution_count": null,
   "metadata": {},
   "outputs": [],
   "source": [
    "s = np.random.normal(prev_val, 0.05, 1)[0]\n",
    "\n",
    "if (s - sigma > 0.3) & (s + sigma  < 0.7):\n",
    "#     print(\"lowerbound\")\n",
    "#     print(prev_val - sigma)\n",
    "#     print(\"upperbound\")\n",
    "#     print(prev_val + sigma)\n",
    "    prev_val = s\n",
    "else: \n",
    "    prev_val = prev_val\n",
    "\n",
    "    \n",
    "print(s)\n",
    "\n",
    "\n",
    "    \n",
    "    "
   ]
  },
  {
   "cell_type": "code",
   "execution_count": null,
   "metadata": {},
   "outputs": [],
   "source": [
    "\n",
    "\n",
    "\n"
   ]
  },
  {
   "cell_type": "code",
   "execution_count": null,
   "metadata": {},
   "outputs": [],
   "source": []
  },
  {
   "cell_type": "code",
   "execution_count": null,
   "metadata": {},
   "outputs": [],
   "source": []
  },
  {
   "cell_type": "code",
   "execution_count": null,
   "metadata": {},
   "outputs": [],
   "source": []
  }
 ],
 "metadata": {
  "kernelspec": {
   "display_name": "Python 3",
   "language": "python",
   "name": "python3"
  },
  "language_info": {
   "codemirror_mode": {
    "name": "ipython",
    "version": 3
   },
   "file_extension": ".py",
   "mimetype": "text/x-python",
   "name": "python",
   "nbconvert_exporter": "python",
   "pygments_lexer": "ipython3",
   "version": "3.6.4"
  }
 },
 "nbformat": 4,
 "nbformat_minor": 2
}
