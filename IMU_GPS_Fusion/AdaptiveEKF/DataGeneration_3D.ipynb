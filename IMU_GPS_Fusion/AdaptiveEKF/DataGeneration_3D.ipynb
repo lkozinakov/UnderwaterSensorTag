{
 "cells": [
  {
   "cell_type": "markdown",
   "metadata": {},
   "source": [
    "## Code from: \n",
    "    https://github.com/balzer82/ICINCO-2014/blob/master/.ipynb_checkpoints/Extended-Kalman-Filter-CTRV-Attitude-TestData2-checkpoint.ipynb"
   ]
  },
  {
   "cell_type": "markdown",
   "metadata": {},
   "source": [
    "#### Search #param for all the parameters to change depends on the scenario"
   ]
  },
  {
   "cell_type": "code",
   "execution_count": 20,
   "metadata": {},
   "outputs": [
    {
     "name": "stdout",
     "output_type": "stream",
     "text": [
      "Populating the interactive namespace from numpy and matplotlib\n"
     ]
    }
   ],
   "source": [
    "import numpy as np\n",
    "import matplotlib.dates as mdates\n",
    "import matplotlib.pyplot as plt\n",
    "import matplotlib.patches as mpatches\n",
    "from scipy.stats import norm\n",
    "import time\n",
    "from IPython.display import Image as ImageDisp\n",
    "from sympy import Symbol, symbols, Matrix, sin, cos, latex#, Plot\n",
    "from sympy.interactive import printing\n",
    "printing.init_printing()\n",
    "%pylab inline --no-import-all"
   ]
  },
  {
   "cell_type": "code",
   "execution_count": 9,
   "metadata": {},
   "outputs": [],
   "source": [
    "adaptive = True"
   ]
  },
  {
   "cell_type": "code",
   "execution_count": 10,
   "metadata": {},
   "outputs": [],
   "source": [
    "numstates = 6 "
   ]
  },
  {
   "cell_type": "code",
   "execution_count": 11,
   "metadata": {},
   "outputs": [],
   "source": [
    "dt    = 1.0/10.0 # Sample Rate of the Measurements is 50Hz\n",
    "dtGPS = 1.0/10.0 # Sample Rate of GPS is 10Hz"
   ]
  },
  {
   "cell_type": "code",
   "execution_count": 14,
   "metadata": {},
   "outputs": [],
   "source": [
    "vs, psis, dpsis, dts, xs, ys, axs, phis, dphis, thetas, dthetas, Lats, Lons = \\\n",
    " symbols('v \\psi \\dot\\psi T x y a_x \\phi \\dot\\phi \\Theta \\dot\\Theta Lat Lon')\n",
    "\n",
    "As = Matrix([[xs+(vs/dpsis)*(sin(psis+dpsis*dts)-sin(psis))],\n",
    "             [ys+(vs/dpsis)*(-cos(psis+dpsis*dts)+cos(psis))],\n",
    "             [vs + axs*dts],\n",
    "             [psis+dpsis*dts],\n",
    "             [phis+dphis*dts],\n",
    "             [thetas+dthetas*dts]])\n",
    "state = Matrix([xs,ys,vs,psis,phis,thetas])"
   ]
  },
  {
   "cell_type": "markdown",
   "metadata": {},
   "source": [
    "## Dynamic Matrix"
   ]
  },
  {
   "cell_type": "code",
   "execution_count": 22,
   "metadata": {},
   "outputs": [
    {
     "data": {
      "text/latex": [
       "$$\\left[\\begin{matrix}x + \\frac{v}{\\dot\\psi} \\left(- \\sin{\\left (\\psi \\right )} + \\sin{\\left (T \\dot\\psi + \\psi \\right )}\\right)\\\\y + \\frac{v}{\\dot\\psi} \\left(\\cos{\\left (\\psi \\right )} - \\cos{\\left (T \\dot\\psi + \\psi \\right )}\\right)\\\\T a_{x} + v\\\\T \\dot\\psi + \\psi\\\\T \\dot\\phi + \\phi\\\\T \\dot\\Theta + \\Theta\\end{matrix}\\right]$$"
      ],
      "text/plain": [
       "⎡    v⋅(-sin(\\psi) + sin(T⋅\\dot\\psi + \\psi))⎤\n",
       "⎢x + ───────────────────────────────────────⎥\n",
       "⎢                    \\dot\\psi               ⎥\n",
       "⎢                                           ⎥\n",
       "⎢    v⋅(cos(\\psi) - cos(T⋅\\dot\\psi + \\psi)) ⎥\n",
       "⎢y + ────────────────────────────────────── ⎥\n",
       "⎢                   \\dot\\psi                ⎥\n",
       "⎢                                           ⎥\n",
       "⎢                 T⋅aₓ + v                  ⎥\n",
       "⎢                                           ⎥\n",
       "⎢             T⋅\\dot\\psi + \\psi             ⎥\n",
       "⎢                                           ⎥\n",
       "⎢             T⋅\\dot\\phi + \\phi             ⎥\n",
       "⎢                                           ⎥\n",
       "⎣           T⋅\\dot\\Theta + \\Theta           ⎦"
      ]
     },
     "execution_count": 22,
     "metadata": {},
     "output_type": "execute_result"
    }
   ],
   "source": [
    "As"
   ]
  },
  {
   "cell_type": "code",
   "execution_count": 23,
   "metadata": {},
   "outputs": [
    {
     "data": {
      "text/latex": [
       "$$\\left[\\begin{matrix}x\\\\y\\\\v\\\\\\psi\\\\\\phi\\\\\\Theta\\end{matrix}\\right]$$"
      ],
      "text/plain": [
       "⎡  x   ⎤\n",
       "⎢      ⎥\n",
       "⎢  y   ⎥\n",
       "⎢      ⎥\n",
       "⎢  v   ⎥\n",
       "⎢      ⎥\n",
       "⎢ \\psi ⎥\n",
       "⎢      ⎥\n",
       "⎢ \\phi ⎥\n",
       "⎢      ⎥\n",
       "⎣\\Theta⎦"
      ]
     },
     "execution_count": 23,
     "metadata": {},
     "output_type": "execute_result"
    }
   ],
   "source": [
    "state"
   ]
  },
  {
   "cell_type": "code",
   "execution_count": 24,
   "metadata": {},
   "outputs": [
    {
     "data": {
      "text/latex": [
       "$$\\left[\\begin{matrix}1 & 0 & \\frac{1}{\\dot\\psi} \\left(- \\sin{\\left (\\psi \\right )} + \\sin{\\left (T \\dot\\psi + \\psi \\right )}\\right) & \\frac{v}{\\dot\\psi} \\left(- \\cos{\\left (\\psi \\right )} + \\cos{\\left (T \\dot\\psi + \\psi \\right )}\\right) & 0 & 0\\\\0 & 1 & \\frac{1}{\\dot\\psi} \\left(\\cos{\\left (\\psi \\right )} - \\cos{\\left (T \\dot\\psi + \\psi \\right )}\\right) & \\frac{v}{\\dot\\psi} \\left(- \\sin{\\left (\\psi \\right )} + \\sin{\\left (T \\dot\\psi + \\psi \\right )}\\right) & 0 & 0\\\\0 & 0 & 1 & 0 & 0 & 0\\\\0 & 0 & 0 & 1 & 0 & 0\\\\0 & 0 & 0 & 0 & 1 & 0\\\\0 & 0 & 0 & 0 & 0 & 1\\end{matrix}\\right]$$"
      ],
      "text/plain": [
       "⎡      -sin(\\psi) + sin(T⋅\\dot\\psi + \\psi)  v⋅(-cos(\\psi) + cos(T⋅\\dot\\psi + \\\n",
       "⎢1  0  ───────────────────────────────────  ──────────────────────────────────\n",
       "⎢                    \\dot\\psi                               \\dot\\psi          \n",
       "⎢                                                                             \n",
       "⎢      cos(\\psi) - cos(T⋅\\dot\\psi + \\psi)   v⋅(-sin(\\psi) + sin(T⋅\\dot\\psi + \\\n",
       "⎢0  1  ──────────────────────────────────   ──────────────────────────────────\n",
       "⎢                   \\dot\\psi                                \\dot\\psi          \n",
       "⎢                                                                             \n",
       "⎢0  0                   1                                      0              \n",
       "⎢                                                                             \n",
       "⎢0  0                   0                                      1              \n",
       "⎢                                                                             \n",
       "⎢0  0                   0                                      0              \n",
       "⎢                                                                             \n",
       "⎣0  0                   0                                      0              \n",
       "\n",
       "psi))      ⎤\n",
       "─────  0  0⎥\n",
       "           ⎥\n",
       "           ⎥\n",
       "psi))      ⎥\n",
       "─────  0  0⎥\n",
       "           ⎥\n",
       "           ⎥\n",
       "       0  0⎥\n",
       "           ⎥\n",
       "       0  0⎥\n",
       "           ⎥\n",
       "       1  0⎥\n",
       "           ⎥\n",
       "       0  1⎦"
      ]
     },
     "execution_count": 24,
     "metadata": {},
     "output_type": "execute_result"
    }
   ],
   "source": [
    "As.jacobian(state)"
   ]
  }
 ],
 "metadata": {
  "kernelspec": {
   "display_name": "Python 3",
   "language": "python",
   "name": "python3"
  },
  "language_info": {
   "codemirror_mode": {
    "name": "ipython",
    "version": 3
   },
   "file_extension": ".py",
   "mimetype": "text/x-python",
   "name": "python",
   "nbconvert_exporter": "python",
   "pygments_lexer": "ipython3",
   "version": "3.6.4"
  }
 },
 "nbformat": 4,
 "nbformat_minor": 2
}
