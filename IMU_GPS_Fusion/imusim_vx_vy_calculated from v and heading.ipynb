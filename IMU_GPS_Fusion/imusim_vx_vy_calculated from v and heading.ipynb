{
 "cells": [
  {
   "cell_type": "code",
   "execution_count": 1,
   "metadata": {},
   "outputs": [
    {
     "name": "stdout",
     "output_type": "stream",
     "text": [
      "Populating the interactive namespace from numpy and matplotlib\n"
     ]
    }
   ],
   "source": [
    "from madgwickahrs import * \n",
    "from quaternion import Quaternion\n",
    "from conversion import * \n",
    "import matplotlib as mpl\n",
    "from mpl_toolkits.mplot3d import Axes3D\n",
    "import numpy as np\n",
    "import matplotlib.pyplot as plt\n",
    "from numpy.linalg import inv\n",
    "import matplotlib.dates as mdates\n",
    "import matplotlib.patches as mpatches\n",
    "from scipy.stats import norm\n",
    "import time\n",
    "from IPython.display import Image as ImageDisp\n",
    "from sympy import Symbol, symbols, Matrix, sin, cos, latex#, Plot\n",
    "from sympy.interactive import printing\n",
    "printing.init_printing()\n",
    "%pylab inline --no-import-all\n"
   ]
  },
  {
   "cell_type": "code",
   "execution_count": 2,
   "metadata": {},
   "outputs": [],
   "source": [
    "def conj(q):\n",
    "    return [q[0], -q[1], -q[2], -q[3]]\n",
    "\n",
    "def to_euler_angles(self):\n",
    "    pitch = np.arcsin(2 * self[1] * self[2] + 2 * self[0] * self[3])\n",
    "    if np.abs(self[1] * self[2] + self[3] * self[0] - 0.5) < 1e-8:\n",
    "        roll = 0\n",
    "        yaw = 2 * np.arctan2(self[1], self[0])\n",
    "    elif np.abs(self[1] * self[2] + self[3] * self[0] + 0.5) < 1e-8:\n",
    "        roll = -2 * np.arctan2(self[1], self[0])\n",
    "        yaw = 0\n",
    "    else:\n",
    "        roll = np.arctan2(2 * self[0] * self[1] - 2 * self[2] * self[3], 1 - 2 * self[1] ** 2 - 2 * self[3] ** 2)\n",
    "        yaw = np.arctan2(2 * self[0] * self[2] - 2 * self[1] * self[3], 1 - 2 * self[2] ** 2 - 2 * self[3] ** 2)\n",
    "    return roll, pitch, yaw"
   ]
  },
  {
   "cell_type": "markdown",
   "metadata": {},
   "source": [
    "## Real Data"
   ]
  },
  {
   "cell_type": "code",
   "execution_count": 3,
   "metadata": {},
   "outputs": [
    {
     "name": "stdout",
     "output_type": "stream",
     "text": [
      "6000\n"
     ]
    }
   ],
   "source": [
    "dt = 0.0001\n",
    "\n",
    "file_object  = open(\"trajectory2.txt\",\"r\")\n",
    "px = []\n",
    "py = []\n",
    "pz = []\n",
    "vx = []\n",
    "vy = []\n",
    "vz = []\n",
    "time = []\n",
    "Ax = []\n",
    "Ay = []\n",
    "Az = []\n",
    "\n",
    "count = 0 \n",
    "for i in file_object:\n",
    "    if count > 5999: \n",
    "        pass\n",
    "    else:\n",
    "        sp = i.split()\n",
    "        time.append(sp[0])\n",
    "        px.append(float(sp[1]))\n",
    "        py.append(float(sp[2]))\n",
    "        pz.append(float(sp[3]))\n",
    "        vx.append(float(sp[4]))\n",
    "        vy.append(float(sp[5]))\n",
    "        vz.append(float(sp[6]))\n",
    "        Ax.append(float(sp[7]))\n",
    "        Ay.append(float(sp[8]))\n",
    "        Az.append(float(sp[9]))\n",
    "    count = count + 1\n",
    "    \n",
    "\n",
    "print(len(Ax))\n",
    "\n"
   ]
  },
  {
   "cell_type": "code",
   "execution_count": 4,
   "metadata": {},
   "outputs": [],
   "source": [
    "def calculateVelocity(p):\n",
    "    vel = []\n",
    "    for i in range(len(p)):\n",
    "        if i == 0: \n",
    "            pass\n",
    "        else: \n",
    "            vel.append((p[i]-p[i-1])/dt)\n",
    "    return vel\n",
    "\n",
    "def calculateAcceleration(v):\n",
    "    acc = []\n",
    "    for i in range(len(v)):\n",
    "        if i ==0:\n",
    "            pass\n",
    "        else:\n",
    "            acc.append((v[i]-v[i-1])/dt)\n",
    "    return acc\n",
    "\n",
    "# VX = calculateVelocity(px)\n",
    "# AX = calculateAcceleration(vx)\n",
    "\n",
    "\n",
    "def calculateVfromA(a, v0): \n",
    "    vel = []\n",
    "    v = v0\n",
    "    vel.append(v)\n",
    "    for i in range(len(a)):\n",
    "        v = v + a[i]*dt\n",
    "        vel.append(v)\n",
    "    \n",
    "\n",
    "    \n",
    "    return vel\n",
    "\n",
    "def calculatePfromV(v, p0):\n",
    "    pos = []\n",
    "    p = p0\n",
    "    pos.append(p)\n",
    "    for i in range(len(v)):\n",
    "        p = p + v[i]*dt\n",
    "        pos.append(p)\n",
    "        \n",
    "\n",
    "    return pos\n",
    "\n"
   ]
  },
  {
   "cell_type": "code",
   "execution_count": 5,
   "metadata": {},
   "outputs": [
    {
     "name": "stdout",
     "output_type": "stream",
     "text": [
      "[30.7952538869, 30.8130772768, 30.8308860918, 30.8486803241, 30.8664599655, 30.884225008, 30.9019754436, 30.9197112642, 30.937432462, 30.9551390288]\n",
      "[-20.9180481004, -20.9195558311, -20.9210560769, -20.9225488372, -20.9240341115, -20.9255118989, -20.926982199, -20.928445011, -20.9299003344, -20.9313481684]\n"
     ]
    }
   ],
   "source": [
    "print(vx[0:10])\n",
    "print(vy[0:10])"
   ]
  },
  {
   "cell_type": "code",
   "execution_count": 6,
   "metadata": {},
   "outputs": [
    {
     "name": "stdout",
     "output_type": "stream",
     "text": [
      "6000\n",
      "6000\n"
     ]
    }
   ],
   "source": [
    "## Calculate the Magnitude of V \n",
    "print(len(vx))\n",
    "print(len(vy))\n",
    "\n",
    "v = np.sqrt(np.array(vx)**2 + np.array(vy)**2)"
   ]
  },
  {
   "cell_type": "code",
   "execution_count": null,
   "metadata": {},
   "outputs": [],
   "source": []
  },
  {
   "cell_type": "markdown",
   "metadata": {},
   "source": [
    "## IMU Data"
   ]
  },
  {
   "cell_type": "code",
   "execution_count": 7,
   "metadata": {},
   "outputs": [
    {
     "name": "stdout",
     "output_type": "stream",
     "text": [
      "6000\n"
     ]
    }
   ],
   "source": [
    "file_object  = open(\"imu_values2.txt\",\"r\")\n",
    "\n",
    "dt = 0.0001\n",
    "\n",
    "ax = []\n",
    "ay = []\n",
    "az = []\n",
    "gx = []\n",
    "gy = []\n",
    "gz = []\n",
    "magx = []\n",
    "magy = []\n",
    "magz = []\n",
    "\n",
    "count = 0\n",
    "for i in file_object:\n",
    "    if count > 5999:\n",
    "        pass\n",
    "    else: \n",
    "        sp = i.split()\n",
    "        ax.append(float(sp[1]))\n",
    "        ay.append(float(sp[2]))\n",
    "        az.append(float(sp[3]))\n",
    "        gx.append(float(sp[4]))\n",
    "        gy.append(float(sp[5]))\n",
    "        gz.append(float(sp[6]))\n",
    "        magx.append(float(sp[7]))\n",
    "        magy.append(float(sp[8]))\n",
    "        magz.append(float(sp[9]))\n",
    "    count = count + 1\n",
    "\n",
    "print(len(ax))\n",
    "    \n",
    "Acc = np.hstack([np.array(ax)[np.newaxis].T, np.array(ay)[np.newaxis].T, np.array(az)[np.newaxis].T])\n",
    "Gyro = np.hstack([np.array(gx)[np.newaxis].T, np.array(gy)[np.newaxis].T, np.array(gz)[np.newaxis].T])\n",
    "Mag = np.hstack([np.array(magx)[np.newaxis].T, np.array(magy)[np.newaxis].T, np.array(magz)[np.newaxis].T])\n"
   ]
  },
  {
   "cell_type": "code",
   "execution_count": 8,
   "metadata": {},
   "outputs": [
    {
     "name": "stdout",
     "output_type": "stream",
     "text": [
      "6000\n"
     ]
    }
   ],
   "source": [
    "## TODO:  yprchange\n",
    "rollrate = np.array(gx)\n",
    "pitchrate = np.array(gy)\n",
    "yawrate = np.array(gz)\n",
    "print(len(rollrate))"
   ]
  },
  {
   "cell_type": "markdown",
   "metadata": {},
   "source": [
    "## AHRS"
   ]
  },
  {
   "cell_type": "code",
   "execution_count": 9,
   "metadata": {},
   "outputs": [],
   "source": [
    "\n",
    "frequency = 1000\n",
    "sampleperiod = 1/frequency\n",
    "\n",
    "rot_mat = []\n",
    "Imupredict = MadgwickAHRS()\n",
    "Imupredict.sampleperiod = sampleperiod\n",
    "roll = []\n",
    "pitch = []\n",
    "yaw = []\n",
    "\n",
    "for i in range(len(ax)):\n",
    "#     Imupredict.update(Gyro[i], Acc[i], Mag[i])\n",
    "    Imupredict.update_imu(Gyro[i], Acc[i])\n",
    "    q = Imupredict.quaternion\n",
    "#     rot_mat.append( np.transpose(quaterniontorotmatrix(q)))\n",
    "\n",
    "    rot_mat.append( quaterniontorotmatrix(q))\n",
    "\n",
    "    q1 = conj(q)\n",
    "    q2 = to_euler_angles(q1)\n",
    "    roll.append(q2[0])\n",
    "    pitch.append(q2[1])\n",
    "    yaw.append(q2[2])\n",
    "#     roll.append(q2[0]*180/math.pi)\n",
    "#     pitch.append(q2[1]*180/math.pi)\n",
    "#     yaw.append(q2[2]*180/math.pi)\n",
    "    \n",
    "#     print(np.transpose(quaterniontorotmatrix(q)))\n",
    "\n"
   ]
  },
  {
   "cell_type": "code",
   "execution_count": 10,
   "metadata": {},
   "outputs": [],
   "source": [
    "dt    = 0.0001 # Sample Rate of the Measurements is 50Hz\n",
    "dtGPS = 0.0001 # Sample Rate of GPS is 10Hz\n",
    "numstates = 8"
   ]
  },
  {
   "cell_type": "markdown",
   "metadata": {},
   "source": [
    "# Kalman Filter Design"
   ]
  },
  {
   "cell_type": "code",
   "execution_count": 11,
   "metadata": {},
   "outputs": [
    {
     "name": "stdout",
     "output_type": "stream",
     "text": [
      "178.306745694\n",
      "128.688349801\n",
      "5.89739844942\n",
      "0.674090050442\n",
      "0.91641487381\n"
     ]
    }
   ],
   "source": [
    "print(max(Ax))\n",
    "print(max(Ay))\n",
    "print(max(rollrate)) #gx in rad/s\n",
    "print(max(pitchrate)) #gy in rad/s\n",
    "print(max(yawrate)) #gz in rad/s"
   ]
  },
  {
   "cell_type": "code",
   "execution_count": null,
   "metadata": {},
   "outputs": [],
   "source": []
  },
  {
   "cell_type": "code",
   "execution_count": 12,
   "metadata": {},
   "outputs": [
    {
     "name": "stdout",
     "output_type": "stream",
     "text": [
      "[0, 0.003080416700001365, 0.003082198299999561, 0.0030839783999994097, 0.003085757200000927]\n",
      "[0.0, 0.0, 0.006162615000000926, 0.006162615000000926, 0.012332350600001263]\n",
      "[0.0, 0.0, -0.0041839109200001445, -0.0041839109200001445, -0.00836842044000008]\n",
      "[0.0, 0.0, 0.0005367835110000052, 0.0005367835110000052, 0.0010741879060000015]\n"
     ]
    },
    {
     "data": {
      "image/png": "[encoded data removed]",
      "text/plain": [
       "<matplotlib.figure.Figure at 0x115ce0fd0>"
      ]
     },
     "metadata": {},
     "output_type": "display_data"
    }
   ],
   "source": [
    "dx = []\n",
    "dy = []\n",
    "dz = []\n",
    "\n",
    "\n",
    "for i in range(len(px)):\n",
    "    if i ==0:\n",
    "        dx.append(0)\n",
    "        dy.append(0)\n",
    "        dz.append(0)\n",
    "    else:\n",
    "        dx.append(px[i]-px[i-1])\n",
    "        dy.append(py[i]-py[i-1])\n",
    "        dz.append(pz[i]-pz[i-1])\n",
    "\n",
    "        \n",
    "print(dx[0:5])\n",
    "\n",
    "\n",
    "mx = np.cumsum(dx)\n",
    "my = np.cumsum(dy)\n",
    "mz = np.cumsum(dz)\n",
    "\n",
    "\n",
    "count = 0\n",
    "mx2 = []\n",
    "storex = 0\n",
    "my2 = []\n",
    "storey = 0\n",
    "mz2 = []\n",
    "storez = 0\n",
    "for i in range(len(mx)):\n",
    "    if count == 0:\n",
    "        storex = mx[i]\n",
    "        storey = my[i]\n",
    "        storez = mz[i]\n",
    "        mx2.append(storex)\n",
    "        my2.append(storey)\n",
    "        mz2.append(storez)\n",
    "        count = 1\n",
    "    else: \n",
    "        mx2.append(storex)\n",
    "        my2.append(storey)\n",
    "        mz2.append(storez)\n",
    "        count = count -1 \n",
    "        \n",
    "print(mx2[0:5])\n",
    "print(my2[0:5])\n",
    "print(mz2[0:5])\n",
    "\n",
    "mx = mx2\n",
    "my = my2\n",
    "mz = mz2\n",
    "\n",
    "\n",
    "    \n",
    "\n",
    "\n",
    "ds = np.sqrt(np.array(dx)**2 + np.array(dy)**2 + np.array(dz)**2)\n",
    "\n",
    "GPS=np.hstack((True, (np.diff(ds)>0.0).astype('bool'))) # GPS Trigger for Kalman Filter\n",
    "# print(len(px))\n",
    "# print(len(ax))\n",
    "# print(len(dx))\n",
    "# print(len(mx))\n",
    "# print(len(GPS))\n",
    "# print(dx[0:5])\n",
    "# print(mx[0:5])\n",
    "\n",
    "    \n",
    "fig = plt.figure(figsize=(20,10))\n",
    "axplot = fig.gca(projection='3d')\n",
    "axplot.plot(mx, my, mz)\n",
    "axplot.plot(mx2, my2, mz2)\n",
    "\n",
    "\n",
    "plt.show()"
   ]
  },
  {
   "cell_type": "code",
   "execution_count": 39,
   "metadata": {},
   "outputs": [
    {
     "name": "stdout",
     "output_type": "stream",
     "text": [
      "[30.7952538869, 30.8130772768, 30.8308860918, 30.8486803241, 30.8664599655]\n",
      "[-20.9180481004, -20.9195558311, -20.9210560769, -20.9225488372, -20.9240341115]\n",
      "6000\n",
      "6000\n",
      "[37.22784439 37.2434363  37.259014   37.2745775  37.29012677 37.3056618\n",
      " 37.32118259 37.33668913 37.3521814  37.36765939]\n",
      "[37.235641619052636, 37.25122634612254, 37.26679651004996, 37.28235376203655, 37.29789478748626, 37.31342377729449, 37.32893647600977, 37.34443713184009, 37.35992154423997, 37.375392137648426]\n",
      "Checked that the velocity calculated from p and v are the same\n",
      "Calculating heading from, vx, vy, v\n",
      "[0.5966718873302853, 0.5964364735088239, 0.5962013101467653, 0.5959663967524194, 0.595731732843517]\n",
      "[-0.5966718873302855, -0.596436473508824, -0.5962013101467651, -0.5959663967524192, -0.5957317328435171]\n",
      "Calculate heading from position\n",
      "[-0.596554148470209, -0.596318861755896, -0.5960838312687435, -0.5958490262932682, -0.5956145064575895]\n",
      "calculate vx and vy from heading calculated from position\n",
      "[30.8041670000136, 30.8219829999956, 30.8397839999941, 30.8575720000093, 30.8753429999875]\n",
      "[-20.9188026000007, -20.9203066000008, -20.9218031000002, -20.9232920999991, -20.9247736000062]\n",
      "[30.7952538869, 30.8130772768, 30.8308860918, 30.8486803241, 30.8664599655]\n",
      "[-20.9180481004, -20.9195558311, -20.9210560769, -20.9225488372, -20.9240341115]\n"
     ]
    }
   ],
   "source": [
    "print(vx[0:5])\n",
    "print(vy[0:5])\n",
    "dvx = np.array(vx)\n",
    "print(len(dvx))\n",
    "dvy = np.array(vy)\n",
    "print(len(dvy))\n",
    "dv = np.sqrt(dvx**2 + dvy**2)\n",
    "print(dv[0:10])\n",
    "\n",
    "dvfromp = []\n",
    "for i in range(len(px)):\n",
    "    if i ==0: \n",
    "        pass\n",
    "    else: \n",
    "        dvfromp.append(np.sqrt((px[i]- px[i-1])**2 + (py[i]-py[i-1])**2)/dt)\n",
    "        \n",
    "print(dvfromp[0:10])\n",
    "print(\"Checked that the velocity calculated from p and v are the same\")\n",
    "\n",
    "\n",
    "print(\"Calculating heading from, vx, vy, v\")\n",
    "\n",
    "dheading_cal_from_vx = []\n",
    "dheading_cal_from_vy = []\n",
    "for i in range(len(dvx)):\n",
    "    dheading_cal_from_vx.append(np.arccos(dvx[i]/dv[i]))\n",
    "    dheading_cal_from_vy.append(np.arcsin(dvy[i]/dv[i]))\n",
    "\n",
    "print(dheading_cal_from_vx[0:5])\n",
    "print(dheading_cal_from_vy[0:5])\n",
    "\n",
    "\n",
    "print(\"Calculate heading from position\")\n",
    "dheading_cal_from_p = []\n",
    "for i in range(len(px)):\n",
    "    if i ==0: \n",
    "        pass\n",
    "    else:\n",
    "        dheading_cal_from_p.append(math.atan2((py[i]-py[i-1]),(px[i]- px[i-1])))\n",
    "print(dheading_cal_from_p[0:5])\n",
    "\n",
    "print(\"calculate vx and vy from heading calculated from position\")\n",
    "dvx_from_p = []\n",
    "dvy_from_p = []\n",
    "for i in range(len(dheading_cal_from_p)):\n",
    "    dvx_from_p.append(dvfromp[i]*cos(dheading_cal_from_p[i]))\n",
    "    dvy_from_p.append(dvfromp[i]*sin(dheading_cal_from_p[i]))\n",
    "print(dvx_from_p[0:5])\n",
    "print(dvy_from_p[0:5])\n",
    "\n",
    "print(vx[0:5])\n",
    "print(vy[0:5])\n"
   ]
  },
  {
   "cell_type": "code",
   "execution_count": null,
   "metadata": {},
   "outputs": [],
   "source": [
    "print(max(dx))\n",
    "print(max(dy))\n",
    "print(max(dz))\n",
    "print(min(dz))\n",
    "print(min(vx))\n",
    "print(max(vy))\n",
    "print(min(pitch))\n",
    "print(max(pitch))\n",
    "print(min(pitchrate))\n",
    "print(max(pitchrate))"
   ]
  },
  {
   "cell_type": "code",
   "execution_count": null,
   "metadata": {},
   "outputs": [],
   "source": [
    "vs, vxs, vys, vzs, psis, dpsis, dts, xs, ys, zs, axs, ays, azs, phis, dphis, thetas, dthetas, Lats, Lons = \\\n",
    " symbols('v, v_x, v_y, v_z \\psi \\dot\\psi T x y z a_x, a_y, a_z, \\phi \\dot\\phi \\Theta \\dot\\Theta Lat Lon')\n",
    "\n",
    "As = Matrix([[xs+(vxs/dpsis)*(sin(psis+dpsis*dts)-sin(psis))],\n",
    "             [ys+((vxs/dpsis)*(-cos(psis+dpsis*dts)+cos(psis))) + ((vys/dphis)*(sin(phis+dphis*dts)-sin(phis)))],\n",
    "             [zs+(vys/dphis)*(-cos(phis+dphis*dts)+cos(phis))],\n",
    "             [vxs + axs*dts],\n",
    "             [vys + ays*dts],\n",
    "             [psis+dpsis*dts],\n",
    "             [thetas+dthetas*dts],\n",
    "             [phis+dphis*dts]])\n",
    "state = Matrix([xs,ys,zs,vxs,vys,psis,thetas,phis])"
   ]
  },
  {
   "cell_type": "code",
   "execution_count": null,
   "metadata": {},
   "outputs": [],
   "source": [
    "As"
   ]
  },
  {
   "cell_type": "code",
   "execution_count": null,
   "metadata": {},
   "outputs": [],
   "source": [
    "state"
   ]
  },
  {
   "cell_type": "code",
   "execution_count": null,
   "metadata": {},
   "outputs": [],
   "source": [
    "As.jacobian(state)"
   ]
  },
  {
   "cell_type": "code",
   "execution_count": null,
   "metadata": {},
   "outputs": [],
   "source": [
    "control = Matrix([axs, ays, dpsis, dthetas,dphis ])\n",
    "control"
   ]
  },
  {
   "cell_type": "code",
   "execution_count": null,
   "metadata": {},
   "outputs": [],
   "source": [
    "JGs = As.jacobian(control)\n",
    "JGs"
   ]
  },
  {
   "cell_type": "code",
   "execution_count": null,
   "metadata": {},
   "outputs": [],
   "source": [
    "hs = Matrix([[xs],[ys],[zs],[vxs],[vys],[psis],[thetas],[phis]])\n",
    "Hs=hs.jacobian(state)\n",
    "Hs"
   ]
  },
  {
   "cell_type": "code",
   "execution_count": null,
   "metadata": {},
   "outputs": [],
   "source": [
    "vx = []\n",
    "\n",
    "for i in range(len(v)):\n",
    "    vx.append(cos(yaw[i]))\n",
    "    vy.append(sin(yaw[i]))\n",
    "    \n",
    "    "
   ]
  },
  {
   "cell_type": "code",
   "execution_count": null,
   "metadata": {},
   "outputs": [],
   "source": [
    "cos(-0.21)"
   ]
  },
  {
   "cell_type": "code",
   "execution_count": null,
   "metadata": {},
   "outputs": [],
   "source": []
  },
  {
   "cell_type": "code",
   "execution_count": null,
   "metadata": {},
   "outputs": [],
   "source": []
  },
  {
   "cell_type": "markdown",
   "metadata": {},
   "source": [
    "## Q: Process Noise "
   ]
  },
  {
   "cell_type": "code",
   "execution_count": null,
   "metadata": {},
   "outputs": [],
   "source": [
    "\n",
    "# pitchrateaccmax=  3.49 # rad/s2\n",
    "# rollrateaccmax =  3.49 # rad/s2\n",
    "# yawrateaccmax  =  1.396  *np.pi/180.0 # rad/s2\n",
    "\n",
    "Q = np.diagflat([[dt*3],            # acceleration\n",
    "                 [dt*3],            # acceleration\n",
    "            [dt*0.02],           # yawrate\n",
    "            [dt*0.03],         # pitchrate\n",
    "            [dt*0.03]])         # rollrate\n",
    "\n",
    "\n",
    "\n",
    "\n",
    "\n",
    "# Q = np.diagflat([[6],            # acceleration\n",
    "#             [6],\n",
    "#             [(0.028)**2],           # yawrate\n",
    "#             [(0.070)**2],         # pitchrate\n",
    "#             [(0.070)**2]])         # rollrate"
   ]
  },
  {
   "cell_type": "markdown",
   "metadata": {},
   "source": [
    "## R: Measurement Noise Covariance\n",
    "## TODO: R could be different"
   ]
  },
  {
   "cell_type": "code",
   "execution_count": null,
   "metadata": {},
   "outputs": [],
   "source": [
    "R = np.diagflat([[(0.0004)**2],      # x\n",
    "            [(0.0004)**2],           # y\n",
    "            [(0.0004)**2],           # y\n",
    "            [(0.001)**2],  # v\n",
    "            [(0.001)**2],  # v\n",
    "            [(0.05)**2],  # heading \n",
    "            [(0.05)**2],  # pitch\n",
    "            [(0.05)**2]]) # roll"
   ]
  },
  {
   "cell_type": "code",
   "execution_count": null,
   "metadata": {},
   "outputs": [],
   "source": [
    "speed = np.array(vx)\n",
    "print(len(vx))\n",
    "print(len(ax))"
   ]
  },
  {
   "cell_type": "code",
   "execution_count": null,
   "metadata": {},
   "outputs": [],
   "source": [
    "## Change these values "
   ]
  },
  {
   "cell_type": "code",
   "execution_count": null,
   "metadata": {},
   "outputs": [],
   "source": [
    "epe = (np.zeros(np.shape(ax))+1)*3\n",
    "\n",
    "epsilon = 0.1\n",
    "xi      = 500.0\n",
    "zeta    = 50.0\n",
    "spspeedx=xi/((np.array(vx)/1.0)+epsilon)\n",
    "spspeedy=xi/((np.array(vy)/1.0)+epsilon)\n",
    "\n",
    "spepe=zeta*epe\n",
    "spx = (spspeedx)**2 + (spepe)**2\n",
    "spy = (spspeedy)**2 + (spepe)**2\n",
    "\n",
    "\n",
    "print(spspeedx)\n",
    "print(spspeedy)\n",
    "print(spx)\n",
    "print(spy)\n",
    "\n"
   ]
  },
  {
   "cell_type": "code",
   "execution_count": null,
   "metadata": {},
   "outputs": [],
   "source": [
    "az = np.array(az)\n",
    "ax = np.array(ax)\n",
    "ay = np.array(ay)\n",
    "\n",
    "rho = 200.0\n",
    "gamma=500.0\n",
    "\n",
    "sroll = (rho + gamma*ay)**2\n",
    "spitch= (rho + gamma*ax)**2\n",
    "syaw = (rho + gamma*az)**2\n",
    "\n",
    "print(sroll)\n",
    "print(spitch)"
   ]
  },
  {
   "cell_type": "code",
   "execution_count": null,
   "metadata": {},
   "outputs": [],
   "source": []
  },
  {
   "cell_type": "markdown",
   "metadata": {},
   "source": [
    "## I"
   ]
  },
  {
   "cell_type": "code",
   "execution_count": null,
   "metadata": {},
   "outputs": [],
   "source": [
    "I = np.eye(numstates)\n",
    "print(I, I.shape)"
   ]
  },
  {
   "cell_type": "code",
   "execution_count": null,
   "metadata": {},
   "outputs": [],
   "source": [
    "###############3"
   ]
  },
  {
   "cell_type": "code",
   "execution_count": null,
   "metadata": {},
   "outputs": [],
   "source": []
  },
  {
   "cell_type": "code",
   "execution_count": null,
   "metadata": {},
   "outputs": [],
   "source": []
  },
  {
   "cell_type": "code",
   "execution_count": null,
   "metadata": {},
   "outputs": [],
   "source": []
  },
  {
   "cell_type": "code",
   "execution_count": null,
   "metadata": {},
   "outputs": [],
   "source": []
  },
  {
   "cell_type": "code",
   "execution_count": null,
   "metadata": {},
   "outputs": [],
   "source": []
  },
  {
   "cell_type": "code",
   "execution_count": null,
   "metadata": {},
   "outputs": [],
   "source": []
  },
  {
   "cell_type": "markdown",
   "metadata": {},
   "source": [
    "## Initial State"
   ]
  },
  {
   "cell_type": "code",
   "execution_count": null,
   "metadata": {},
   "outputs": [],
   "source": [
    "x = np.matrix([[mx[0], my[0], mz[0], v[0]/1.0, v[0]/1.0, 0.0, 0.0, 0.0]]).T\n",
    "print(x, x.shape)\n",
    "\n",
    "U=float(np.cos(x[5])*x[3])\n",
    "V=float(np.sin(x[5])*x[3])\n",
    "\n",
    "plt.quiver(x[0], x[1], U, V)\n",
    "plt.scatter(float(x[0]), float(x[1]), s=100)\n",
    "plt.title('Initial Location')\n",
    "plt.axis('equal')"
   ]
  },
  {
   "cell_type": "markdown",
   "metadata": {},
   "source": [
    "## Initial Uncertainty"
   ]
  },
  {
   "cell_type": "code",
   "execution_count": null,
   "metadata": {},
   "outputs": [],
   "source": [
    "## TODO: see how this value changes the result\n",
    "P = 1e-4*np.eye(numstates)\n",
    "print(P)\n",
    "\n",
    "# P = np.array([[1e-4,0.0,0.0,0.0,0.0,0.0,0.0,0.0],\n",
    "#               [0.0,1e-4,0.0,0.0,0.0,0.0,0.0,0.0],\n",
    "#               [0.0,0.0,1e-4,0.0,0.0,0.0,0.0,0.0],\n",
    "#               [0.0,0.0,0.0,1e-4,0.0,0.0,0.0,0.0],\n",
    "#               [0.0,0.0,0.0,0.0,1e-4,0.0,0.0,0.0],\n",
    "#               [0.0,0.0,0.0,0.0,0.0,10.0,0.0,0.0],\n",
    "#               [0.0,0.0,0.0,0.0,0.0,0.0,10.0,0.0],\n",
    "#               [0.0,0.0,0.0,0.0,0.0,0.0,0.0,10.0]])\n",
    "\n",
    "print(P)\n",
    "    "
   ]
  },
  {
   "cell_type": "markdown",
   "metadata": {},
   "source": [
    "## Measurement Vector"
   ]
  },
  {
   "cell_type": "code",
   "execution_count": null,
   "metadata": {},
   "outputs": [],
   "source": [
    "mx = np.array(mx)\n",
    "my = np.array(my)\n",
    "mz = np.array(mz)\n",
    "vx = np.array(vx)\n",
    "vy = np.array(vy)\n",
    "yaw = np.array(yaw)\n",
    "pitch = np.array(pitch)\n",
    "roll = np.array(roll)\n",
    "\n",
    "measurements = np.vstack((mx, my, mz, \\\n",
    "                          vx/1.0, \\\n",
    "                          vy/1.0, \\\n",
    "                          yaw, \\\n",
    "                          pitch, \\\n",
    "                          roll))\n",
    "\n",
    "# Lenth of the measurement\n",
    "m = measurements.shape[1]\n",
    "print(measurements.shape)"
   ]
  },
  {
   "cell_type": "code",
   "execution_count": null,
   "metadata": {},
   "outputs": [],
   "source": [
    "# Preallocation for Plotting\n",
    "x0 = []\n",
    "x1 = []\n",
    "x2 = []\n",
    "x3 = []\n",
    "x4 = []\n",
    "x5 = []\n",
    "x6 = []\n",
    "x7 = []\n",
    "x8 = []\n",
    "Zx = []\n",
    "Zy = []\n",
    "P0 = []\n",
    "P1 = []\n",
    "P2 = []\n",
    "P3 = []\n",
    "P4 = []\n",
    "P5 = []\n",
    "P6 = []\n",
    "P7 = []\n",
    "P8 = []\n",
    "K0 = []\n",
    "K1 = []\n",
    "K2 = []\n",
    "K3 = []\n",
    "K4 = []\n",
    "K5 = []\n",
    "K6 = []\n",
    "K7 = []\n",
    "dstate=[]\n",
    "\n",
    "h0 = []\n",
    "h1 = []\n",
    "h2 = []"
   ]
  },
  {
   "cell_type": "code",
   "execution_count": null,
   "metadata": {},
   "outputs": [],
   "source": [
    "print(mx[0])\n",
    "print(my[0])\n",
    "print(mz[0])\n",
    "print(x[0])\n",
    "print(x[1])\n",
    "print(x[2])\n",
    "print(measurements[0])\n",
    "print(m)\n",
    "ri = 6000\n",
    "x0.append(float(x[0]))\n",
    "x1.append(float(x[1]))\n",
    "x2.append(float(x[2]))\n",
    "print(x0)\n",
    "print(x1)\n",
    "print(x2)\n",
    "h0.append(x[0])\n",
    "h1.append(x[1])\n",
    "h2.append(x[2])"
   ]
  },
  {
   "cell_type": "code",
   "execution_count": null,
   "metadata": {
    "scrolled": true
   },
   "outputs": [],
   "source": [
    "\n",
    "for filterstep in range(ri):\n",
    "\n",
    "    axc = ax[filterstep]\n",
    "    ayc = ay[filterstep]\n",
    "    yawc = yawrate[filterstep]\n",
    "    pitc = pitchrate[filterstep]\n",
    "    rolc = rollrate[filterstep]    \n",
    "    \n",
    "#     print(\"old\")\n",
    "#     print(x[0])\n",
    "#     print(x[1])\n",
    "#     print(x[2])\n",
    "    \n",
    "    if yawc==0.0: # Driving straight\n",
    "        x[0] = x[0] + x[3]*dt * np.cos(x[5])\n",
    "        x[1] = x[1] + x[3]*dt * np.sin(x[5]) + x[4]*dt * np.cos(x[7])  \n",
    "        x[2] = x[2] + x[4]*dt * np.sin(x[7])\n",
    "        x[3] = x[3] + axc*dt\n",
    "        x[4] = x[4] + ayc*dt\n",
    "        x[5] = x[5] + yawc*dt\n",
    "        x[6] = x[6] + pitc*dt\n",
    "        x[7] = x[7] + rolc*dt\n",
    "        yawc = 0.00000001 # to avoid numerical issues in Jacobians\n",
    "        rolc = 0.00000001 # to avoid numerical issues in Jacobians\n",
    "        dstate.append(0)\n",
    "    else: # otherwise\n",
    "        x[0] = x[0] + (x[3]/yawc) * (np.sin(yawc*dt+x[5]) - np.sin(x[5]))\n",
    "        x[1] = x[1] + ((x[3]/yawc) * (-np.cos(yawc*dt+x[5])+ np.cos(x[5]))) + ((x[4]/rolc) * (np.sin(rolc*dt+x[7])- np.sin(x[7])))\n",
    "        x[2] = x[2] + ((x[4]/rolc) * (-np.cos(rolc*dt+x[7])+ np.cos(x[7])))\n",
    "        x[3] = x[3] + axc*dt\n",
    "        x[4] = x[4] + ayc*dt\n",
    "        x[4] = (x[4] + yawc*dt + np.pi) % (2.0*np.pi) - np.pi\n",
    "        x[5] = x[5] + pitc*dt\n",
    "        #x[6] = x[6] + rolc*dt\n",
    "        x[6] = (x[6] + rolc*dt + np.pi) % (2.0*np.pi) - np.pi\n",
    "        dstate.append(1)\n",
    "#     print(\"predicted\")\n",
    "#     print(x[0]) \n",
    "#     print(x[1])\n",
    "#     print(x[2])\n",
    "    \n",
    "    \n",
    "    a14 = float((1.0/yawc) * (np.sin(yawc*dt+x[5]) - np.sin(x[5])))\n",
    "    a16 = float((x[3]/yawc)* (np.cos(yawc*dt+x[5]) - np.cos(x[5])))\n",
    "    a24 = float((1.0/yawc) * (-np.cos(yawc*dt+x[5]) + np.cos(x[5])))\n",
    "    a25 = float((1.0/rolc) * (np.sin(rolc*dt+x[7]) - np.sin(x[7])))\n",
    "    a26 = float((x[3]/yawc) * (np.sin(yawc*dt+x[5]) - np.sin(x[5])))\n",
    "    a28 = float((x[4]/rolc)* (np.cos(rolc*dt+x[7]) - np.cos(x[7])))\n",
    "    a35 = float((1/rolc)* (-np.cos(rolc*dt+x[7]) + np.cos(x[7])))\n",
    "    a38 = float((x[4]/rolc)* (np.sin(rolc*dt+x[7]) - np.sin(x[7])))\n",
    "\n",
    "    JA = np.matrix([[1.0, 0.0, 0.0, a14, 0.0, a16, 0.0, 0.0],\n",
    "                  [0.0, 1.0, 0.0, a24, a25, a26, 0.0, a28],\n",
    "                  [0.0, 0.0, 1.0, 0.0, a35, 0.0, 0.0, a38],\n",
    "                  [0.0, 0.0, 0.0, 1.0, 0.0, 0.0, 0.0, 0.0],\n",
    "                  [0.0, 0.0, 0.0, 0.0, 1.0, 0.0, 0.0, 0.0],\n",
    "                  [0.0, 0.0, 0.0, 0.0, 0.0, 1.0, 0.0, 0.0],\n",
    "                  [0.0, 0.0, 0.0, 0.0, 0.0, 0.0, 1.0, 0.0],\n",
    "                  [0.0, 0.0, 0.0, 0.0, 0.0, 0.0, 0.0, 1.0]])\n",
    "    \n",
    "#     print(np.shape(JA))\n",
    "    \n",
    "    \n",
    "    g13 = float((dt*x[3]/yawc)*np.cos(yawc*dt+x[5]) - (x[3]/yawc**2)*(np.sin(yawc*dt+x[5])-np.sin(x[5])))\n",
    "    g23 = float((dt*x[3]/yawc)*np.sin(yawc*dt+x[5]) - (x[3]/yawc**2)*(-np.cos(yawc*dt+x[5])+np.cos(x[5])))\n",
    "    g25 = float((dt*x[4]/rolc)*np.cos(rolc*dt+x[7]) - (x[4]/rolc**2)*(np.sin(rolc*dt+x[7])-np.sin(x[7])))\n",
    "    g35 = float((dt*x[4]/rolc)*np.sin(rolc*dt+x[7]) - (x[4]/yawc**2)*(-np.cos(rolc*dt+x[7])+np.cos(x[7])))\n",
    "                \n",
    "    JG = np.matrix([[0.0, 0.0, g13, 0.0, 0.0],\n",
    "                    [0.0, 0.0, g23, 0.0, g25],\n",
    "                    [0.0, 0.0, 0.0, 0.0, g35],\n",
    "                    [dt, 0.0, 0.0, 0.0, 0.0],\n",
    "                    [0.0, dt, 0.0, 0.0, 0.0],\n",
    "                    [0.0, 0.0, dt, 0.0, 0.0],\n",
    "                    [0.0, 0.0, 0.0, dt, 0.0],\n",
    "                    [0.0, 0.0, 0.0, 0.0, dt]])\n",
    "    \n",
    "    # Project the error covariance ahead\n",
    "    P = JA*P*JA.T + JG*Q*JG.T\n",
    "    \n",
    "#     print(\"predicted P\")\n",
    "#     print(P)\n",
    "    \n",
    "    \n",
    "    # Measurement Update (Correction)\n",
    "    # ===============================\n",
    "    hx = np.matrix([[float(x[0])],\n",
    "                    [float(x[1])],\n",
    "                    [float(x[2])],                    \n",
    "                    [float(x[3])],\n",
    "                    [float(x[4])],\n",
    "                    [float(x[5])],\n",
    "                    [float(x[6])],\n",
    "                    [float(x[7])]])\n",
    "    # Because GPS is sampled with 10Hz and the other Measurements, as well as\n",
    "    # the filter are sampled with 50Hz, one have to wait for correction until\n",
    "    # there is a new GPS Measurement\n",
    "    if GPS[filterstep]:\n",
    "        #print(\"GPS\")\n",
    "        # Calculate the Jacobian of the Measurement Function\n",
    "        # see \"Measurement Matrix H\"\n",
    "        JH = np.matrix([[1.0, 0.0, 0.0, 0.0, 0.0, 0.0, 0.0, 0.0],\n",
    "                        [0.0, 1.0, 0.0, 0.0, 0.0, 0.0, 0.0, 0.0],\n",
    "                        [0.0, 0.0, 1.0, 0.0, 0.0, 0.0, 0.0, 0.0],\n",
    "                        [0.0, 0.0, 0.0, 1.0, 0.0, 0.0, 0.0, 0.0],\n",
    "                        [0.0, 0.0, 0.0, 0.0, 1.0, 0.0, 0.0, 0.0],\n",
    "                        [0.0, 0.0, 0.0, 0.0, 0.0, 1.0, 0.0, 0.0],\n",
    "                        [0.0, 0.0, 0.0, 0.0, 0.0, 0.0, 1.0, 0.0],\n",
    "                        [0.0, 0.0, 0.0, 0.0, 0.0, 0.0, 0.0, 1.0]])\n",
    "\n",
    "        S = JH*P*JH.T + R    # R should be small and S should be small \n",
    "\n",
    "        K = (P*JH.T) * np.linalg.inv(S)\n",
    "\n",
    "        # Update the estimate via\n",
    "        z = measurements[:,filterstep].reshape(JH.shape[0],1)\n",
    "        y = z - (hx)                         # Innovation or Residual\n",
    "        x = x + (K*y)\n",
    "\n",
    "        h0.append(z[0])\n",
    "        h1.append(z[1])\n",
    "        h2.append(z[2])\n",
    "\n",
    "    #     # Update the error covariance\n",
    "        P = (I - (K*JH))*P\n",
    "\n",
    "\n",
    "#     else:\n",
    "\n",
    "#         JH = np.matrix([[0.0, 0.0, 0.0, 0.0, 0.0, 0.0, 0.0, 0.0],\n",
    "#                         [0.0, 0.0, 0.0, 0.0, 0.0, 0.0, 0.0, 0.0],\n",
    "#                         [0.0, 0.0, 0.0, 0.0, 0.0, 0.0, 0.0, 0.0],\n",
    "#                         [0.0, 0.0, 0.0, 0.0, 0.0, 0.0, 0.0, 0.0],\n",
    "#                         [0.0, 0.0, 0.0, 0.0, 0.0, 0.0, 0.0, 0.0],\n",
    "#                         [0.0, 0.0, 0.0, 0.0, 0.0, 1.0, 0.0, 0.0],\n",
    "#                         [0.0, 0.0, 0.0, 0.0, 0.0, 0.0, 1.0, 0.0],\n",
    "#                         [0.0, 0.0, 0.0, 0.0, 0.0, 0.0, 0.0, 1.0]])\n",
    "\n",
    "    \n",
    "\n",
    "    \n",
    "# #     # Adaptive R\n",
    "#     R[0,0] = spx[filterstep]       # x\n",
    "#     R[1,1] = spy[filterstep]       # y\n",
    "#     R[2,2] = spy[filterstep]\n",
    "#     R[3,3] = spspeedx[filterstep]  # vx\n",
    "#     R[4,4] = spspeedy[filterstep]\n",
    "#     R[5,5] = syaw[filterstep]  # course\n",
    "#     R[6,6] = spitch[filterstep]   # pitch\n",
    "#     R[7,7] = sroll[filterstep]    # roll\n",
    "    \n",
    "    \n",
    "\n",
    "#     print(\"P\")\n",
    "#     print(P)\n",
    "#     if GPS[filterstep]:\n",
    "#         x[0] = measurements[0][filterstep]\n",
    "#         x[1] = measurements[1][filterstep]\n",
    "#         x[2] = measurements[2][filterstep]\n",
    "#         print(\"corrected\")\n",
    "#         print(x[0])\n",
    "#         print(x[1])\n",
    "#         print(x[2])\n",
    "    \n",
    "    \n",
    "    x0.append(float(x[0]))\n",
    "    x1.append(float(x[1]))\n",
    "    x2.append(float(x[2]))\n",
    "    x3.append(float(x[3]))\n",
    "    x4.append(float(x[4]))\n",
    "    x5.append(float(x[5]))\n",
    "    x6.append(float(x[6]))\n",
    "    x7.append(float(x[7]))\n",
    "    P0.append(float(P[0,0]))\n",
    "    P1.append(float(P[1,1]))\n",
    "    P2.append(float(P[2,2]))\n",
    "    P3.append(float(P[3,3]))\n",
    "    P4.append(float(P[4,4]))\n",
    "    P5.append(float(P[5,5]))\n",
    "    P6.append(float(P[6,6]))\n",
    "    P7.append(float(P[7,7]))\n",
    "    K0.append(float(K[0,0]))\n",
    "    K1.append(float(K[1,0]))\n",
    "    K2.append(float(K[2,0]))\n",
    "    K3.append(float(K[3,0]))\n",
    "    K4.append(float(K[4,0]))\n",
    "    K5.append(float(K[5,0]))\n",
    "    K6.append(float(K[6,0]))\n",
    "    K7.append(float(K[7,0]))\n",
    "    \n",
    "    \n",
    "    \n",
    "    \n",
    "    "
   ]
  },
  {
   "cell_type": "code",
   "execution_count": null,
   "metadata": {},
   "outputs": [],
   "source": [
    "# num = 0\n",
    "# print(mx[num])\n",
    "# print(measurements[0][num])\n",
    "# print(my[num])\n",
    "# print(measurements[1][num])\n",
    "\n",
    "# print(h0)\n",
    "# print(mx)\n",
    "# print(x0[0])\n",
    "# print(x1[0])\n",
    "# print(x2[0])"
   ]
  },
  {
   "cell_type": "code",
   "execution_count": null,
   "metadata": {},
   "outputs": [],
   "source": []
  },
  {
   "cell_type": "code",
   "execution_count": null,
   "metadata": {},
   "outputs": [],
   "source": [
    "# print(x0)\n",
    "# print(x1)\n",
    "# print(x2)\n",
    "# print(mx[0:5])\n",
    "# print(my[0:5])\n",
    "# print(mz[0:5])\n",
    "\n",
    "kx = mx[0:ri]\n",
    "ky = my[0:ri]\n",
    "kz = mz[0:ri]\n",
    "\n",
    "fig = plt.figure(figsize=(20,10))\n",
    "axplot = fig.gca(projection='3d')\n",
    "axplot.scatter( x1, x2, x0)\n",
    "axplot.scatter( ky, kz, kx)\n",
    "# axplot.plot(x0, x1, x2, label='trajectory')\n",
    "# axplot.plot(h0, h1, h2)\n",
    "# axplot.plot(kx, ky, kz)\n",
    "\n",
    "\n",
    "axplot.legend()\n",
    "\n",
    "plt.show()\n",
    "\n",
    "\n"
   ]
  },
  {
   "cell_type": "code",
   "execution_count": null,
   "metadata": {
    "scrolled": false
   },
   "outputs": [],
   "source": [
    "m = ri \n",
    "fig = plt.figure(figsize=(16,9))\n",
    "plt.semilogy(range(m),P0, label='$x$')\n",
    "plt.step(range(m),P1, label='$y$')\n",
    "plt.step(range(m),P2, label='$z$')\n",
    "plt.step(range(m),P3, label='$vx$')\n",
    "plt.step(range(m),P4, label='$vy$')\n",
    "plt.step(range(m),P5, label='$\\psi$')\n",
    "plt.step(range(m),P6, label='$\\Theta$')\n",
    "plt.step(range(m),P7, label='$\\phi$')\n",
    "\n",
    "plt.xlabel('Filter Step [k]')\n",
    "plt.ylabel('')\n",
    "plt.xlim(0,ri)\n",
    "plt.title('Uncertainty (Elements from Matrix $P$)')\n",
    "#plt.legend(loc='best',prop={'size':22})\n",
    "plt.legend(bbox_to_anchor=(0., 0.91, 1., .06), loc=3,\n",
    "       ncol=9, mode=\"expand\", borderaxespad=0.,prop={'size':22})\n",
    "plt.savefig('Covariance-Matrix-Verlauf.eps', bbox_inches='tight')"
   ]
  },
  {
   "cell_type": "code",
   "execution_count": null,
   "metadata": {},
   "outputs": [],
   "source": [
    "fig = plt.figure(figsize=(16,9))\n",
    "plt.step(range(ri),K0, label='$x$')\n",
    "plt.step(range(ri),K1, label='$y$')\n",
    "plt.step(range(ri),K2, label='$z$')\n",
    "plt.step(range(ri),K3, label='$vx$')\n",
    "plt.step(range(ri),K4, label='$vy$')\n",
    "\n",
    "plt.xlabel('Filter Step [k]')\n",
    "plt.ylabel('')\n",
    "plt.xlim(0,ri)\n",
    "plt.title('Kalman Gain (the lower, the more the measurement fullfill the prediction)')\n",
    "#plt.legend(prop={'size':18})\n",
    "plt.legend(bbox_to_anchor=(0., 0., 1., .102), loc=3,\n",
    "       ncol=5, mode=\"expand\", borderaxespad=0.,prop={'size':22})\n",
    "plt.ylim([-0.4,0.4])"
   ]
  },
  {
   "cell_type": "code",
   "execution_count": null,
   "metadata": {},
   "outputs": [],
   "source": [
    "## Process Noise Covarance Matrix Q"
   ]
  },
  {
   "cell_type": "code",
   "execution_count": null,
   "metadata": {},
   "outputs": [],
   "source": []
  },
  {
   "cell_type": "code",
   "execution_count": null,
   "metadata": {},
   "outputs": [],
   "source": []
  }
 ],
 "metadata": {
  "kernelspec": {
   "display_name": "Python 3",
   "language": "python",
   "name": "python3"
  },
  "language_info": {
   "codemirror_mode": {
    "name": "ipython",
    "version": 3
   },
   "file_extension": ".py",
   "mimetype": "text/x-python",
   "name": "python",
   "nbconvert_exporter": "python",
   "pygments_lexer": "ipython3",
   "version": "3.6.4"
  }
 },
 "nbformat": 4,
 "nbformat_minor": 2
}
