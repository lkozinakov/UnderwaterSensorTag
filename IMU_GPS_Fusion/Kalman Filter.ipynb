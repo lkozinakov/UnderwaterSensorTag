{
 "cells": [
  {
   "cell_type": "markdown",
   "metadata": {},
   "source": [
    "## Imports"
   ]
  },
  {
   "cell_type": "code",
   "execution_count": 50,
   "metadata": {},
   "outputs": [],
   "source": [
    "import matplotlib.pyplot as plt\n",
    "import numpy as np\n",
    "from numpy.linalg import inv"
   ]
  },
  {
   "cell_type": "markdown",
   "metadata": {},
   "source": [
    "## Read data"
   ]
  },
  {
   "cell_type": "markdown",
   "metadata": {},
   "source": [
    "#### *****TODO: simulate appropriate data that would mimic animals behavior underwater"
   ]
  },
  {
   "cell_type": "markdown",
   "metadata": {},
   "source": [
    "#### Generate Time "
   ]
  },
  {
   "cell_type": "code",
   "execution_count": 7,
   "metadata": {},
   "outputs": [
    {
     "name": "stdout",
     "output_type": "stream",
     "text": [
      "5999\n",
      "[5.0000e-03 1.0000e-02 1.5000e-02 ... 2.9985e+01 2.9990e+01 2.9995e+01]\n"
     ]
    }
   ],
   "source": [
    "t_final = 30\n",
    "dtAccel = 0.005  # TODO: assumption that the time interval is constant \n",
    "t_step = np.arange(dtAccel,t_final,dtAccel)\n",
    "print(len(t_step))\n",
    "print(t_step)"
   ]
  },
  {
   "cell_type": "markdown",
   "metadata": {},
   "source": [
    "#### True Accelerometer for comparison\n",
    "###### (TODO: ground truth from simulator)"
   ]
  },
  {
   "cell_type": "code",
   "execution_count": 8,
   "metadata": {},
   "outputs": [
    {
     "name": "stdout",
     "output_type": "stream",
     "text": [
      "[0.         8.73509934 3.78928482 ... 7.70730564 1.76744331 0.84112238]\n",
      "6000\n"
     ]
    }
   ],
   "source": [
    "true_accel = np.concatenate(([0],np.random.random_sample((len(t_step),))*10))\n",
    "print(true_accel)\n",
    "print(len(true_accel))"
   ]
  },
  {
   "cell_type": "markdown",
   "metadata": {},
   "source": [
    "#### True velocity and acceleration for comparison"
   ]
  },
  {
   "cell_type": "code",
   "execution_count": 12,
   "metadata": {},
   "outputs": [
    {
     "name": "stdout",
     "output_type": "stream",
     "text": [
      "acceleration\n",
      "6000\n",
      "[0.         8.73509934 3.78928482 6.13034805 0.25108571 7.43077304\n",
      " 0.19721144 5.29184928 9.86679845 7.65232885]\n",
      "velocity\n",
      "6000\n",
      "[100, 100.0, 100.04367549668083, 100.0626219207878, 100.09327366103686, 100.09452908958752, 100.13168295479747, 100.13266901197944, 100.1591282583695, 100.2084622506021]\n",
      "position\n",
      "6000\n",
      "[0, 0.5, 1.0003275662251063, 1.5006880418893127, 2.00123103954512, 2.501706823564434, 3.002458123001446, 3.5031239332042987, 4.003985722612121, 4.505151368845714]\n"
     ]
    }
   ],
   "source": [
    "#a priori statistics => x ~ N(0,10^2), v ~ N(100,1^2)\n",
    "pos_0 = 0 # meters\n",
    "vel_0 = 100 # meters/second \n",
    "\n",
    "\n",
    "true_vel = [vel_0]\n",
    "true_pos = [pos_0]\n",
    "\n",
    "for i in range(len(t_step)):\n",
    "    if i == 0:\n",
    "        p_last = pos_0\n",
    "        v_last = vel_0\n",
    "        \n",
    "    v_current = v_last + (true_accel[i]*dtAccel)\n",
    "    true_vel.append(v_current)\n",
    "    v_last = v_current\n",
    "    \n",
    "    p_current = p_last + v_last*dtAccel + true_accel[i]*(dtAccel**2)/2\n",
    "    true_pos.append(p_current)\n",
    "    p_last = p_current\n",
    "    \n",
    "print(\"acceleration\")\n",
    "print(len(true_accel))\n",
    "print(true_accel[0:10])\n",
    "\n",
    "print(\"velocity\")\n",
    "\n",
    "\n",
    "print(len(true_vel))\n",
    "print(true_vel[0:10])\n",
    "\n",
    "print(\"position\")\n",
    "\n",
    "print(len(true_pos))\n",
    "print(true_pos[0:10])"
   ]
  },
  {
   "cell_type": "markdown",
   "metadata": {},
   "source": [
    "#### Generating Acceleration, velocity, and position  with bias and gaussian noise"
   ]
  },
  {
   "cell_type": "code",
   "execution_count": 51,
   "metadata": {},
   "outputs": [
    {
     "name": "stdout",
     "output_type": "stream",
     "text": [
      "white gaussian noise of accelerometer :  [0.     0.0004]\n",
      "bias of accelerometer:  [0.   0.01]\n",
      "0.012728357200689815\n"
     ]
    }
   ],
   "source": [
    "# white gaussian noise with zero mean and variance = 0.0004\n",
    "wV_Accel = .0004 # Accelerometer white noise variance \n",
    "wm_Accel = 0 # Accelerometer white noise mean\n",
    "wN_Accel = np.array([wm_Accel, wV_Accel])\n",
    "\n",
    "# bias with a priori statistics b_a ~ N(0,0.01)\n",
    "bu_Accel = 0 # Mean of bias term\n",
    "bV_Accel = .01 # Variance of bias (m/s^2)^2\n",
    "bN_Accel = np.array([bu_Accel, bV_Accel])\n",
    "\n",
    "print(\"white gaussian noise of accelerometer : \", wN_Accel)\n",
    "print(\"bias of accelerometer: \",bN_Accel)\n",
    "\n",
    "\n",
    "def get_white_noise_accelerometer():\n",
    "    return np.asscalar(np.random.normal(wN_Accel[0],np.sqrt(wN_Accel[1]),1))\n",
    "\n",
    "def set_bias_accelerometer():\n",
    "    return np.asscalar(np.random.normal(bN_Accel[0], np.sqrt(bN_Accel[1]),1))\n",
    "\n",
    "# a = a + w + b\n",
    "def get_accelerometer_reading(i, white_noise):\n",
    "    return true_accel[i] + white_noise + bu_Accel\n",
    "\n",
    "# Takes in last state @ time = k, calculates the new acceleration state @ time = k+1\n",
    "def get_pos_vel_from_accel(ilast,xlast,white_noise):\n",
    "    # v_new = a_last*dt + v_last\n",
    "    vAc = get_accelerometer_reading(ilast,white_noise)*dtAccel + np.asscalar(xlast[1])\n",
    "    # x_new = p_last + v_last*dt + a_last*dt^2/2\n",
    "    xAc = (get_accelerometer_reading(ilast, white_noise)*dtAccel**2)/2 + np.asscalar(xlast[1])*dtAccel + np.asscalar(xlast[0])\n",
    "    bias = np.asscalar(xlast[2])\n",
    "    return np.matrix([xAc,vAc,bias]).transpose() \n",
    "\n",
    "\n",
    "Accel_noise = []\n",
    "\n",
    "for i in range(len(t_step)):\n",
    "    Accel_noise.append(get_accelerometer_reading(i, get_white_noise_accelerometer()))\n",
    "\n",
    "\n",
    "print(Accel_noise[0])"
   ]
  },
  {
   "cell_type": "markdown",
   "metadata": {},
   "source": [
    "#### Generating GPS value with noise "
   ]
  },
  {
   "cell_type": "code",
   "execution_count": 16,
   "metadata": {},
   "outputs": [],
   "source": [
    "# Functions, Variances, Means, and equations for the GPS states: Position and Velocity\n",
    "dtGPS = dtAccel*40 # seconds\n",
    "\n",
    "wmp_GPS = 0 # meters, mean of the white noise measurement of position\n",
    "wmv_GPS = 0 # meters / second, mean of the white noise measurement of velocity\n",
    "wVp_GPS = 1 # meter^2, variance of the white noise measurement of position\n",
    "wVv_GPS = .04**2 # (4cm/s)**2 = .04**2 (m/s)^2, varaince of the white noise measurement of velocity\n",
    "\n",
    "wNp_GPS = np.array([wmp_GPS,wVp_GPS])\n",
    "wNv_GPS = np.array([wmv_GPS,wVv_GPS])\n",
    "\n",
    "\n",
    "# returns the GPS noise for a given timestep\n",
    "def get_measurement_noise_GPS():\n",
    "    wp = np.asscalar(np.random.normal(wNp_GPS[0],np.sqrt(wNp_GPS[1]),1))\n",
    "    wv = np.asscalar(np.random.normal(wNv_GPS[0],np.sqrt(wNv_GPS[1]),1))\n",
    "    wb = 0 # This the the extra zero padding, corresponding to the last term (bias) of the state dynamics\n",
    "    return np.matrix([wp,wv,wb]).transpose()\n",
    "\n",
    "# [ p + n_p ]\n",
    "# [ v + n_p ]\n",
    "# [ 0 + bias ]\n",
    "# returns the current GPS measurement vector for the system\n",
    "def get_measurement_GPS(i):\n",
    "    return np.matrix([true_pos[i], true_vel[i],0]).transpose() + get_measurement_noise_GPS()\n",
    "\n",
    "GPS_noise = []\n",
    "for i in range(len(t_step)):\n",
    "    GPS_noise.append(get_measurement_GPS(i))"
   ]
  },
  {
   "cell_type": "markdown",
   "metadata": {},
   "source": [
    "## Code Starts From HERE "
   ]
  },
  {
   "cell_type": "markdown",
   "metadata": {},
   "source": [
    "## Input Parameters"
   ]
  },
  {
   "cell_type": "code",
   "execution_count": 34,
   "metadata": {},
   "outputs": [],
   "source": [
    "acc_freq = 200\n",
    "\n",
    "# Accelerometer Noise: acc_s = acc_g + b + w \n",
    "acc_wV = 0.0004 #(m/sec^2)^2, accelerometer white noise variance\n",
    "acc_bV = 0.01 #(m/sec^2)^2, accelerometer bias \n",
    "\n",
    "# GPS Noise\n",
    "gps_pV = 10**2 # m^2\n",
    "gps_vu = 100 #m/s\n",
    "gps_vV = 1**2 # (m/s)^2\n",
    "gps_wpV = 1 #m^2, white noise variance of gps position\n",
    "gps_wvV = 0.04**2 #(m/s)^2, white noise variance of gps velocity"
   ]
  },
  {
   "cell_type": "markdown",
   "metadata": {},
   "source": [
    "## Initial Conditions"
   ]
  },
  {
   "cell_type": "code",
   "execution_count": 35,
   "metadata": {},
   "outputs": [],
   "source": [
    "dt = 1/acc_freq"
   ]
  },
  {
   "cell_type": "markdown",
   "metadata": {},
   "source": [
    "## Prediction Step"
   ]
  },
  {
   "cell_type": "code",
   "execution_count": 45,
   "metadata": {},
   "outputs": [],
   "source": [
    "A = np.array([[1, dt, -dt**2/2],[0,1,-dt],[0,0,1]])\n",
    "T = -np.array([[dt**2],[dt],[0]])\n",
    "\n",
    "P = np.array([[gps_pV, 0, 0],[0, gps_vV, 0],[0,0,acc_bV]])\n",
    "Q = T*acc_wV*np.transpose(T)\n",
    "\n",
    "def predict(state, control, P):\n",
    "    # predicting the new state\n",
    "    state_pred = A*state + T*control\n",
    "    # predicting the new error \n",
    "    P_pred = A*P*np.transpose(A) + Q\n",
    "\n",
    "    return state_pred, P_pred"
   ]
  },
  {
   "cell_type": "markdown",
   "metadata": {},
   "source": [
    "## Correction Step"
   ]
  },
  {
   "cell_type": "code",
   "execution_count": 49,
   "metadata": {},
   "outputs": [],
   "source": [
    "R = np.array([[gps_wpV, 0, 0],[0, gps_wvV, 0],[0,0,0]]) # measurement covariance matrix\n",
    "H = np.matrix(np.eye(3))\n",
    "\n",
    "def correct(state_pred, measurement, P_pred):\n",
    "    S = H*P_pred*np.transpose(H) + R\n",
    "    K = P_pred*np.transpose(H)*inv(S) # Kalman Gain\n",
    "    state_corr = state_pred + K*(measurement-H*state_pred)\n",
    "    P_corr = P_pred - K*H*P_pred\n",
    "    \n",
    "    return state_corr, P_corr"
   ]
  },
  {
   "cell_type": "markdown",
   "metadata": {},
   "source": [
    "## Implement Kalman Filter"
   ]
  },
  {
   "cell_type": "code",
   "execution_count": 54,
   "metadata": {},
   "outputs": [
    {
     "name": "stdout",
     "output_type": "stream",
     "text": [
      "5999\n",
      "5999\n"
     ]
    }
   ],
   "source": [
    "print(len(Accel_noise))\n",
    "print(len(GPS_noise))\n",
    "\n",
    "\n",
    "GPSbool = 0 \n",
    "#Initialization\n",
    "p_0 = 0 \n",
    "v_0 = 0\n",
    "b_0 = 0 \n",
    "w_prev = 0\n",
    "\n",
    "\n",
    "state = [[p_0],[v_0],[0]] # p, v, b \n",
    "control = w_prev\n",
    "\n",
    "\n",
    "Kalman_pos = []\n",
    "Kalman_pos.append(p_0)\n",
    "for i in range(len(Accel_noise)):\n",
    "\n",
    "    # Prediction step \n",
    "    control = get_white_noise_accelerometer()\n",
    "    state_pred, P_pred = predict(state, control, P)\n",
    "    state = state_pred\n",
    "    P = P_pred\n",
    "    \n",
    "    if GPSbool == 1: # Correct if GPS exists \n",
    "        measurement = GPS[i]\n",
    "        state_corr, P_corr = correct(state, measurment, P)\n",
    "        state = state_corr\n",
    "        P = P_corr\n",
    "    \n",
    "    \n",
    "    Kalman_pos.append(state[0])\n",
    "    Kalman_vel.append(state[1])"
   ]
  },
  {
   "cell_type": "code",
   "execution_count": null,
   "metadata": {},
   "outputs": [],
   "source": []
  },
  {
   "cell_type": "code",
   "execution_count": null,
   "metadata": {},
   "outputs": [],
   "source": []
  },
  {
   "cell_type": "markdown",
   "metadata": {},
   "source": [
    "## Prediction Step "
   ]
  },
  {
   "cell_type": "markdown",
   "metadata": {},
   "source": [
    "## Correction Step"
   ]
  }
 ],
 "metadata": {
  "kernelspec": {
   "display_name": "Python 3",
   "language": "python",
   "name": "python3"
  },
  "language_info": {
   "codemirror_mode": {
    "name": "ipython",
    "version": 3
   },
   "file_extension": ".py",
   "mimetype": "text/x-python",
   "name": "python",
   "nbconvert_exporter": "python",
   "pygments_lexer": "ipython3",
   "version": "3.6.4"
  }
 },
 "nbformat": 4,
 "nbformat_minor": 2
}
