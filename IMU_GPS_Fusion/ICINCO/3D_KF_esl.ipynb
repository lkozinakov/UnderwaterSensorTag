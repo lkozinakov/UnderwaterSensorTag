{
 "cells": [
  {
   "cell_type": "code",
   "execution_count": 1,
   "metadata": {},
   "outputs": [
    {
     "name": "stdout",
     "output_type": "stream",
     "text": [
      "Populating the interactive namespace from numpy and matplotlib\n"
     ]
    }
   ],
   "source": [
    "import numpy as np\n",
    "import matplotlib.dates as mdates\n",
    "import matplotlib.pyplot as plt\n",
    "import matplotlib as mpl\n",
    "from mpl_toolkits.mplot3d import Axes3D\n",
    "import matplotlib.patches as mpatches\n",
    "from scipy.stats import norm\n",
    "import time\n",
    "from IPython.display import Image as ImageDisp\n",
    "from sympy import Symbol, symbols, Matrix, sin, cos, latex#, Plot\n",
    "from sympy.interactive import printing\n",
    "printing.init_printing()\n",
    "%pylab inline --no-import-all\n"
   ]
  },
  {
   "cell_type": "code",
   "execution_count": 2,
   "metadata": {},
   "outputs": [
    {
     "name": "stdout",
     "output_type": "stream",
     "text": [
      "Read '2014-04-23-GNSSGroundTruth.csv' successfully.\n"
     ]
    }
   ],
   "source": [
    "datafile = '2014-04-23-GNSSGroundTruth.csv'\n",
    "\n",
    "LatDD, LonDD = np.loadtxt(datafile, delimiter=',', unpack=True, skiprows=1)\n",
    "\n",
    "print('Read \\'%s\\' successfully.' % datafile)\n"
   ]
  },
  {
   "cell_type": "code",
   "execution_count": 3,
   "metadata": {},
   "outputs": [],
   "source": [
    "dt    = 1.0/50.0 # Sample Rate of the Measurements is 50Hz\n",
    "dtGPS = 1.0/10.0 # Sample Rate of GPS is 10Hz\n",
    "numstates = 7"
   ]
  },
  {
   "cell_type": "code",
   "execution_count": 4,
   "metadata": {},
   "outputs": [
    {
     "name": "stdout",
     "output_type": "stream",
     "text": [
      "Read '2014-04-23-GPS-IMU-Data.csv' successfully.\n"
     ]
    }
   ],
   "source": [
    "datafile = '2014-04-23-GPS-IMU-Data.csv'\n",
    "\n",
    "date, \\\n",
    "timem, \\\n",
    "millis, \\\n",
    "ax, \\\n",
    "ay, \\\n",
    "az, \\\n",
    "rollrate, \\\n",
    "pitchrate, \\\n",
    "yawrate, \\\n",
    "roll, \\\n",
    "pitch, \\\n",
    "yaw, \\\n",
    "speed, \\\n",
    "course, \\\n",
    "latitude, \\\n",
    "longitude, \\\n",
    "altitude, \\\n",
    "pdop, \\\n",
    "hdop, \\\n",
    "vdop, \\\n",
    "epe, \\\n",
    "fix, \\\n",
    "satellites_view, \\\n",
    "satellites_used, \\\n",
    "temp = np.loadtxt(datafile, delimiter=',', unpack=True, skiprows=1)\n",
    "\n",
    "print('Read \\'%s\\' successfully.' % datafile)"
   ]
  },
  {
   "cell_type": "code",
   "execution_count": 5,
   "metadata": {},
   "outputs": [],
   "source": [
    "R = 6378388.0 + altitude # m\n",
    "arc= 2.0*np.pi*R/360.0 # m/°\n",
    "\n",
    "dx = arc * np.cos(latitude*np.pi/180.0) * np.hstack((0.0, np.diff(longitude))) # in m\n",
    "dy = arc * np.hstack((0.0, np.diff(latitude))) # in m\n",
    "dz = np.hstack((0.0, np.diff(altitude)))\n",
    "\n",
    "mx = np.cumsum(dx)\n",
    "my = np.cumsum(dy)\n",
    "mz = np.cumsum(dz)\n",
    "\n",
    "ds = np.sqrt(dx**2+dy**2+dz**2)\n",
    "\n",
    "GPS=np.hstack((True, (np.diff(ds)>0.0).astype('bool'))) # GPS Trigger for Kalman Filter"
   ]
  },
  {
   "cell_type": "code",
   "execution_count": 6,
   "metadata": {},
   "outputs": [],
   "source": [
    "acc_freq = 200\n",
    "\n",
    "# Accelerometer Noise: acc_s = acc_g + b + w \n",
    "acc_wV = 0.0004 #(m/sec^2)^2, accelerometer white noise variance\n",
    "acc_bV = 0.01 #(m/sec^2)^2, accelerometer bias \n",
    "\n",
    "# GPS Noise\n",
    "gps_pV = 10**2 # m^2\n",
    "gps_vu = 100 #m/s\n",
    "gps_vV = 1**2 # (m/s)^2\n",
    "gps_wpV = 1 #m^2, white noise variance of gps position\n",
    "gps_wvV = 0.04**2 #(m/s)^2, white noise variance of gps velocity"
   ]
  },
  {
   "cell_type": "code",
   "execution_count": 7,
   "metadata": {},
   "outputs": [],
   "source": [
    "A = np.array([[1, dt, -dt**2/2],[0,1,-dt],[0,0,1]])\n",
    "T = -np.array([[dt**2],[dt],[0]])\n",
    "\n",
    "P = np.array([[gps_pV, 0, 0],[0, gps_vV, 0],[0,0,acc_bV]])\n",
    "Q = T*acc_wV*np.transpose(T)\n",
    "\n",
    "def predict(state, control, P):\n",
    "    # predicting the new state\n",
    "    state_pred = A*state + T*control\n",
    "    # predicting the new error \n",
    "    P_pred = A*P*np.transpose(A) + Q\n",
    "\n",
    "    return state_pred, P_pred"
   ]
  },
  {
   "cell_type": "code",
   "execution_count": 8,
   "metadata": {},
   "outputs": [],
   "source": [
    "R = np.array([[gps_wpV, 0, 0],[0, gps_wvV, 0],[0,0,0]]) # measurement covariance matrix\n",
    "H = np.matrix(np.eye(3))\n",
    "\n",
    "def correct(state_pred, measurement, P_pred):\n",
    "    S = H*P_pred*np.transpose(H) + R\n",
    "    K = P_pred*np.transpose(H)*inv(S) # Kalman Gain\n",
    "    state_corr = state_pred + K*(measurement-H*state_pred)\n",
    "    P_corr = P_pred - K*H*P_pred\n",
    "    \n",
    "    return state_corr, P_corr"
   ]
  },
  {
   "cell_type": "code",
   "execution_count": 13,
   "metadata": {},
   "outputs": [
    {
     "name": "stdout",
     "output_type": "stream",
     "text": [
      "white gaussian noise of accelerometer :  [0.     0.0004]\n",
      "bias of accelerometer:  [0.   0.01]\n"
     ]
    }
   ],
   "source": [
    "Accel_noise = ax\n",
    "GPS_noise = mx\n",
    "\n",
    "# white gaussian noise with zero mean and variance = 0.0004\n",
    "wV_Accel = .0004 # Accelerometer white noise variance \n",
    "wm_Accel = 0 # Accelerometer white noise mean\n",
    "wN_Accel = np.array([wm_Accel, wV_Accel])\n",
    "\n",
    "# bias with a priori statistics b_a ~ N(0,0.01)\n",
    "bu_Accel = 0 # Mean of bias term\n",
    "bV_Accel = .01 # Variance of bias (m/s^2)^2\n",
    "bN_Accel = np.array([bu_Accel, bV_Accel])\n",
    "\n",
    "print(\"white gaussian noise of accelerometer : \", wN_Accel)\n",
    "print(\"bias of accelerometer: \",bN_Accel)\n",
    "\n",
    "\n",
    "def get_white_noise_accelerometer():\n",
    "    return np.asscalar(np.random.normal(wN_Accel[0],np.sqrt(wN_Accel[1]),1))\n",
    "\n",
    "def set_bias_accelerometer():\n",
    "    return np.asscalar(np.random.normal(bN_Accel[0], np.sqrt(bN_Accel[1]),1))\n",
    "\n",
    "# a = a + w + b\n",
    "def get_accelerometer_reading(i, white_noise):\n",
    "    return true_accel[i] + white_noise + bu_Accel\n",
    "\n",
    "# Takes in last state @ time = k, calculates the new acceleration state @ time = k+1\n",
    "def get_pos_vel_from_accel(ilast,xlast,white_noise):\n",
    "    # v_new = a_last*dt + v_last\n",
    "    vAc = get_accelerometer_reading(ilast,white_noise)*dtAccel + np.asscalar(xlast[1])\n",
    "    # x_new = p_last + v_last*dt + a_last*dt^2/2\n",
    "    xAc = (get_accelerometer_reading(ilast, white_noise)*dtAccel**2)/2 + np.asscalar(xlast[1])*dtAccel + np.asscalar(xlast[0])\n",
    "    bias = np.asscalar(xlast[2])\n",
    "    return np.matrix([xAc,vAc,bias]).transpose() "
   ]
  },
  {
   "cell_type": "code",
   "execution_count": 22,
   "metadata": {},
   "outputs": [
    {
     "ename": "LinAlgError",
     "evalue": "Singular matrix",
     "output_type": "error",
     "traceback": [
      "\u001b[0;31m---------------------------------------------------------------------------\u001b[0m",
      "\u001b[0;31mLinAlgError\u001b[0m                               Traceback (most recent call last)",
      "\u001b[0;32m<ipython-input-22-fc492e15b56c>\u001b[0m in \u001b[0;36m<module>\u001b[0;34m()\u001b[0m\n\u001b[1;32m     27\u001b[0m     \u001b[0;32mif\u001b[0m \u001b[0mGPS\u001b[0m\u001b[0;34m[\u001b[0m\u001b[0mi\u001b[0m\u001b[0;34m]\u001b[0m\u001b[0;34m:\u001b[0m \u001b[0;31m# Correct if GPS exists\u001b[0m\u001b[0;34m\u001b[0m\u001b[0m\n\u001b[1;32m     28\u001b[0m         \u001b[0mmeasurment\u001b[0m \u001b[0;34m=\u001b[0m \u001b[0mmx\u001b[0m\u001b[0;34m[\u001b[0m\u001b[0mi\u001b[0m\u001b[0;34m]\u001b[0m\u001b[0;34m\u001b[0m\u001b[0m\n\u001b[0;32m---> 29\u001b[0;31m         \u001b[0mstate_corr\u001b[0m\u001b[0;34m,\u001b[0m \u001b[0mP_corr\u001b[0m \u001b[0;34m=\u001b[0m \u001b[0mcorrect\u001b[0m\u001b[0;34m(\u001b[0m\u001b[0mstate\u001b[0m\u001b[0;34m,\u001b[0m \u001b[0mmeasurment\u001b[0m\u001b[0;34m,\u001b[0m \u001b[0mP\u001b[0m\u001b[0;34m)\u001b[0m\u001b[0;34m\u001b[0m\u001b[0m\n\u001b[0m\u001b[1;32m     30\u001b[0m         \u001b[0mstate\u001b[0m \u001b[0;34m=\u001b[0m \u001b[0mstate_corr\u001b[0m\u001b[0;34m\u001b[0m\u001b[0m\n\u001b[1;32m     31\u001b[0m         \u001b[0mP\u001b[0m \u001b[0;34m=\u001b[0m \u001b[0mP_corr\u001b[0m\u001b[0;34m\u001b[0m\u001b[0m\n",
      "\u001b[0;32m<ipython-input-8-90c18ba1e5f8>\u001b[0m in \u001b[0;36mcorrect\u001b[0;34m(state_pred, measurement, P_pred)\u001b[0m\n\u001b[1;32m      4\u001b[0m \u001b[0;32mdef\u001b[0m \u001b[0mcorrect\u001b[0m\u001b[0;34m(\u001b[0m\u001b[0mstate_pred\u001b[0m\u001b[0;34m,\u001b[0m \u001b[0mmeasurement\u001b[0m\u001b[0;34m,\u001b[0m \u001b[0mP_pred\u001b[0m\u001b[0;34m)\u001b[0m\u001b[0;34m:\u001b[0m\u001b[0;34m\u001b[0m\u001b[0m\n\u001b[1;32m      5\u001b[0m     \u001b[0mS\u001b[0m \u001b[0;34m=\u001b[0m \u001b[0mH\u001b[0m\u001b[0;34m*\u001b[0m\u001b[0mP_pred\u001b[0m\u001b[0;34m*\u001b[0m\u001b[0mnp\u001b[0m\u001b[0;34m.\u001b[0m\u001b[0mtranspose\u001b[0m\u001b[0;34m(\u001b[0m\u001b[0mH\u001b[0m\u001b[0;34m)\u001b[0m \u001b[0;34m+\u001b[0m \u001b[0mR\u001b[0m\u001b[0;34m\u001b[0m\u001b[0m\n\u001b[0;32m----> 6\u001b[0;31m     \u001b[0mK\u001b[0m \u001b[0;34m=\u001b[0m \u001b[0mP_pred\u001b[0m\u001b[0;34m*\u001b[0m\u001b[0mnp\u001b[0m\u001b[0;34m.\u001b[0m\u001b[0mtranspose\u001b[0m\u001b[0;34m(\u001b[0m\u001b[0mH\u001b[0m\u001b[0;34m)\u001b[0m\u001b[0;34m*\u001b[0m\u001b[0minv\u001b[0m\u001b[0;34m(\u001b[0m\u001b[0mS\u001b[0m\u001b[0;34m)\u001b[0m \u001b[0;31m# Kalman Gain\u001b[0m\u001b[0;34m\u001b[0m\u001b[0m\n\u001b[0m\u001b[1;32m      7\u001b[0m     \u001b[0mstate_corr\u001b[0m \u001b[0;34m=\u001b[0m \u001b[0mstate_pred\u001b[0m \u001b[0;34m+\u001b[0m \u001b[0mK\u001b[0m\u001b[0;34m*\u001b[0m\u001b[0;34m(\u001b[0m\u001b[0mmeasurement\u001b[0m\u001b[0;34m-\u001b[0m\u001b[0mH\u001b[0m\u001b[0;34m*\u001b[0m\u001b[0mstate_pred\u001b[0m\u001b[0;34m)\u001b[0m\u001b[0;34m\u001b[0m\u001b[0m\n\u001b[1;32m      8\u001b[0m     \u001b[0mP_corr\u001b[0m \u001b[0;34m=\u001b[0m \u001b[0mP_pred\u001b[0m \u001b[0;34m-\u001b[0m \u001b[0mK\u001b[0m\u001b[0;34m*\u001b[0m\u001b[0mH\u001b[0m\u001b[0;34m*\u001b[0m\u001b[0mP_pred\u001b[0m\u001b[0;34m\u001b[0m\u001b[0m\n",
      "\u001b[0;32m/anaconda3/lib/python3.6/site-packages/numpy/linalg/linalg.py\u001b[0m in \u001b[0;36minv\u001b[0;34m(a)\u001b[0m\n\u001b[1;32m    526\u001b[0m     \u001b[0msignature\u001b[0m \u001b[0;34m=\u001b[0m \u001b[0;34m'D->D'\u001b[0m \u001b[0;32mif\u001b[0m \u001b[0misComplexType\u001b[0m\u001b[0;34m(\u001b[0m\u001b[0mt\u001b[0m\u001b[0;34m)\u001b[0m \u001b[0;32melse\u001b[0m \u001b[0;34m'd->d'\u001b[0m\u001b[0;34m\u001b[0m\u001b[0m\n\u001b[1;32m    527\u001b[0m     \u001b[0mextobj\u001b[0m \u001b[0;34m=\u001b[0m \u001b[0mget_linalg_error_extobj\u001b[0m\u001b[0;34m(\u001b[0m\u001b[0m_raise_linalgerror_singular\u001b[0m\u001b[0;34m)\u001b[0m\u001b[0;34m\u001b[0m\u001b[0m\n\u001b[0;32m--> 528\u001b[0;31m     \u001b[0mainv\u001b[0m \u001b[0;34m=\u001b[0m \u001b[0m_umath_linalg\u001b[0m\u001b[0;34m.\u001b[0m\u001b[0minv\u001b[0m\u001b[0;34m(\u001b[0m\u001b[0ma\u001b[0m\u001b[0;34m,\u001b[0m \u001b[0msignature\u001b[0m\u001b[0;34m=\u001b[0m\u001b[0msignature\u001b[0m\u001b[0;34m,\u001b[0m \u001b[0mextobj\u001b[0m\u001b[0;34m=\u001b[0m\u001b[0mextobj\u001b[0m\u001b[0;34m)\u001b[0m\u001b[0;34m\u001b[0m\u001b[0m\n\u001b[0m\u001b[1;32m    529\u001b[0m     \u001b[0;32mreturn\u001b[0m \u001b[0mwrap\u001b[0m\u001b[0;34m(\u001b[0m\u001b[0mainv\u001b[0m\u001b[0;34m.\u001b[0m\u001b[0mastype\u001b[0m\u001b[0;34m(\u001b[0m\u001b[0mresult_t\u001b[0m\u001b[0;34m,\u001b[0m \u001b[0mcopy\u001b[0m\u001b[0;34m=\u001b[0m\u001b[0;32mFalse\u001b[0m\u001b[0;34m)\u001b[0m\u001b[0;34m)\u001b[0m\u001b[0;34m\u001b[0m\u001b[0m\n\u001b[1;32m    530\u001b[0m \u001b[0;34m\u001b[0m\u001b[0m\n",
      "\u001b[0;32m/anaconda3/lib/python3.6/site-packages/numpy/linalg/linalg.py\u001b[0m in \u001b[0;36m_raise_linalgerror_singular\u001b[0;34m(err, flag)\u001b[0m\n\u001b[1;32m     87\u001b[0m \u001b[0;34m\u001b[0m\u001b[0m\n\u001b[1;32m     88\u001b[0m \u001b[0;32mdef\u001b[0m \u001b[0m_raise_linalgerror_singular\u001b[0m\u001b[0;34m(\u001b[0m\u001b[0merr\u001b[0m\u001b[0;34m,\u001b[0m \u001b[0mflag\u001b[0m\u001b[0;34m)\u001b[0m\u001b[0;34m:\u001b[0m\u001b[0;34m\u001b[0m\u001b[0m\n\u001b[0;32m---> 89\u001b[0;31m     \u001b[0;32mraise\u001b[0m \u001b[0mLinAlgError\u001b[0m\u001b[0;34m(\u001b[0m\u001b[0;34m\"Singular matrix\"\u001b[0m\u001b[0;34m)\u001b[0m\u001b[0;34m\u001b[0m\u001b[0m\n\u001b[0m\u001b[1;32m     90\u001b[0m \u001b[0;34m\u001b[0m\u001b[0m\n\u001b[1;32m     91\u001b[0m \u001b[0;32mdef\u001b[0m \u001b[0m_raise_linalgerror_nonposdef\u001b[0m\u001b[0;34m(\u001b[0m\u001b[0merr\u001b[0m\u001b[0;34m,\u001b[0m \u001b[0mflag\u001b[0m\u001b[0;34m)\u001b[0m\u001b[0;34m:\u001b[0m\u001b[0;34m\u001b[0m\u001b[0m\n",
      "\u001b[0;31mLinAlgError\u001b[0m: Singular matrix"
     ]
    }
   ],
   "source": [
    "\n",
    "from numpy.linalg import inv\n",
    "\n",
    "#Initialization\n",
    "p_0 = 0 \n",
    "v_0 = 0\n",
    "b_0 = 0 \n",
    "w_prev = 0\n",
    "\n",
    "\n",
    "state = [[p_0],[v_0],[0]] # p, v, b \n",
    "control = w_prev\n",
    "\n",
    "\n",
    "Kalman_pos = []\n",
    "Kalman_pos.append(p_0)\n",
    "Kalman_vel = []\n",
    "Kalman_vel.append(v_0)\n",
    "for i in range(len(ax)):\n",
    "\n",
    "    # Prediction step \n",
    "    control = ax[i]\n",
    "    state_pred, P_pred = predict(state, control, P)\n",
    "    state = state_pred\n",
    "    P = P_pred\n",
    "    \n",
    "    if GPS[i]: # Correct if GPS exists \n",
    "        measurment = mx[i]\n",
    "        state_corr, P_corr = correct(state, measurment, P)\n",
    "        state = state_corr\n",
    "        P = P_corr\n",
    "    \n",
    "    \n",
    "    Kalman_pos.append(state[0])\n",
    "    Kalman_vel.append(state[1])"
   ]
  }
 ],
 "metadata": {
  "kernelspec": {
   "display_name": "Python 3",
   "language": "python",
   "name": "python3"
  },
  "language_info": {
   "codemirror_mode": {
    "name": "ipython",
    "version": 3
   },
   "file_extension": ".py",
   "mimetype": "text/x-python",
   "name": "python",
   "nbconvert_exporter": "python",
   "pygments_lexer": "ipython3",
   "version": "3.6.4"
  }
 },
 "nbformat": 4,
 "nbformat_minor": 2
}
