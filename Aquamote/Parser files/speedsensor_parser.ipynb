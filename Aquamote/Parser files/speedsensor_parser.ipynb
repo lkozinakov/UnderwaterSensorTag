{
 "cells": [
  {
   "cell_type": "code",
   "execution_count": 7,
   "metadata": {
    "collapsed": true
   },
   "outputs": [],
   "source": [
    "# Created on Jan 25, 2018\n",
    "# Author: Eun Sun Lee\n",
    "\n",
    "#file = open('speed_dolphin.rtf', 'r') \n",
    "file = open('speed_arcaturtle.rtf', 'r') \n",
    "f =  file.readlines()\n",
    "\n",
    "f_nfl = f[7:len(f)]\n",
    "f_nfl[0] = f_nfl[0][14:len(f_nfl[0])]\n",
    "\n",
    "newlist = []\n",
    "for i in f_nfl:\n",
    "    if i == f_nfl[len(f_nfl)-1]:\n",
    "        newlist.append(i[0:len(i)-1])\n",
    "    else: \n",
    "        newlist.append(i[0:len(i)-2])\n",
    "        \n",
    "#print(newlist)\n",
    "newlist3 = []\n",
    "for t in newlist:\n",
    "    newlist3.append(t[0:256])\n",
    "    \n",
    "\n",
    "newlist2 = []\n",
    "\n",
    "for k in newlist3:\n",
    "    if(k[240:256] == '0000000047470D0A'):\n",
    "        newlist2.append(k[0:240])#k[240:256])\n",
    "    else:\n",
    "        newlist2.append(k)\n",
    "        \n",
    "#print(newlist2)"
   ]
  },
  {
   "cell_type": "code",
   "execution_count": 8,
   "metadata": {
    "collapsed": true
   },
   "outputs": [],
   "source": [
    "connectedlines  = newlist2[0]\n",
    "\n",
    "for i in newlist2: \n",
    "    if (i == newlist2[0]):\n",
    "        continue\n",
    "    else:\n",
    "        connectedlines += i\n",
    "\n",
    "# for i in range(newlist2)-1:\n",
    "#     connectedlines = connectedlines + newlist2[i] \n",
    "\n",
    "#print(connectedlines)"
   ]
  },
  {
   "cell_type": "code",
   "execution_count": 9,
   "metadata": {
    "scrolled": true
   },
   "outputs": [],
   "source": [
    "import numpy as np\n",
    "\n",
    "#print(len(connectedlines))\n",
    "val  = np.divide(len(connectedlines),21)\n",
    "\n",
    "\n",
    "x = []\n",
    "y = []\n",
    "for i in range(val):\n",
    "    k = connectedlines[i*20:(i+1)*20]\n",
    "    \n",
    "#     #print(k[0:16])\n",
    "#     #print(k[16:20])\n",
    "#     #integerpt = k[0:8]\n",
    "#     #decimalpt = k[8:16]\n",
    "#     intpt.append(k[0:8])\n",
    "#     decpt.append(k[8:16])\n",
    "#     valpt.append(k[16:20])\n",
    "    \n",
    "    integerpart = int(k[0:8],16)\n",
    "    decimalpart = int(k[8:16],16)/float(4294967295)\n",
    "    x.append(integerpart + decimalpart)\n",
    "    #print(integerpart + decimalpart)\n",
    "    #x1.append(int(k[0:16],16))\n",
    "    y.append(int(k[16:20],16))\n",
    "    #print(int(k[16:20],16))"
   ]
  },
  {
   "cell_type": "code",
   "execution_count": 10,
   "metadata": {
    "collapsed": true,
    "scrolled": true
   },
   "outputs": [],
   "source": [
    "import matplotlib.pyplot as plt\n",
    "\n",
    "#plt.plot(x)\n",
    "#plt.show()\n",
    "\n",
    "#print(x)\n",
    "#print(y)\n",
    "\n",
    "#download_dir = \"speed_dolphin.csv\" #where you want the file to be downloaded to \n",
    "download_dir = \"speed_arcaturtle.csv\" #where you want the file to be downloaded to \n",
    "csv = open(download_dir, \"w\") \n",
    "#\"w\" indicates that you're writing strings to the file\n",
    "\n",
    "columnTitleRow = \"time, speed\\n\"\n",
    "csv.write(columnTitleRow)\n",
    "\n",
    "for i in range(len(x)):\n",
    "    time = str(x[i])\n",
    "    speed = str(y[i])\n",
    "    row = time + \",\" + speed + \"\\n\"\n",
    "    csv.write(row)"
   ]
  },
  {
   "cell_type": "code",
   "execution_count": 11,
   "metadata": {},
   "outputs": [
    {
     "data": {
      "image/png": "[encoded data removed]",
      "text/plain": [
       "<matplotlib.figure.Figure at 0x1132e5c10>"
      ]
     },
     "metadata": {},
     "output_type": "display_data"
    }
   ],
   "source": [
    "plt.plot(x,y)\n",
    "plt.title('Speed Arca turtle deployment')\n",
    "plt.xlabel('time(s)')\n",
    "plt.ylabel('speed sensor value')\n",
    "plt.show()"
   ]
  },
  {
   "cell_type": "code",
   "execution_count": 19,
   "metadata": {},
   "outputs": [
    {
     "name": "stdout",
     "output_type": "stream",
     "text": [
      "-1912\n"
     ]
    }
   ],
   "source": [
    "negval = 0xF888\n",
    "\n",
    "x = negval\n",
    "if a_x > 0x7FFF:\n",
    "    a_x -= 0x10000\n",
    "    \n",
    "\n",
    "print(x)"
   ]
  },
  {
   "cell_type": "code",
   "execution_count": null,
   "metadata": {
    "collapsed": true
   },
   "outputs": [],
   "source": []
  },
  {
   "cell_type": "code",
   "execution_count": 11,
   "metadata": {},
   "outputs": [
    {
     "name": "stdout",
     "output_type": "stream",
     "text": [
      "63624\n"
     ]
    }
   ],
   "source": [
    "print(iv)"
   ]
  },
  {
   "cell_type": "code",
   "execution_count": null,
   "metadata": {
    "collapsed": true
   },
   "outputs": [],
   "source": []
  }
 ],
 "metadata": {
  "kernelspec": {
   "display_name": "Python 2",
   "language": "python",
   "name": "python2"
  },
  "language_info": {
   "codemirror_mode": {
    "name": "ipython",
    "version": 2
   },
   "file_extension": ".py",
   "mimetype": "text/x-python",
   "name": "python",
   "nbconvert_exporter": "python",
   "pygments_lexer": "ipython2",
   "version": "2.7.13"
  }
 },
 "nbformat": 4,
 "nbformat_minor": 2
}
